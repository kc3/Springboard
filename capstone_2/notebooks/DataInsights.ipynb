{
 "cells": [
  {
   "cell_type": "markdown",
   "metadata": {},
   "source": [
    "### Data Insights"
   ]
  },
  {
   "cell_type": "markdown",
   "metadata": {},
   "source": [
    "Load the already cleaned question answer pairs generated."
   ]
  },
  {
   "cell_type": "code",
   "execution_count": 2,
   "metadata": {},
   "outputs": [],
   "source": [
    "# Python Imports\n",
    "import numpy as np\n",
    "import pandas as pd\n",
    "import matplotlib.pyplot as plt\n",
    "import seaborn as sns"
   ]
  },
  {
   "cell_type": "code",
   "execution_count": 3,
   "metadata": {},
   "outputs": [
    {
     "data": {
      "text/html": [
       "<div>\n",
       "<style scoped>\n",
       "    .dataframe tbody tr th:only-of-type {\n",
       "        vertical-align: middle;\n",
       "    }\n",
       "\n",
       "    .dataframe tbody tr th {\n",
       "        vertical-align: top;\n",
       "    }\n",
       "\n",
       "    .dataframe thead th {\n",
       "        text-align: right;\n",
       "    }\n",
       "</style>\n",
       "<table border=\"1\" class=\"dataframe\">\n",
       "  <thead>\n",
       "    <tr style=\"text-align: right;\">\n",
       "      <th></th>\n",
       "      <th>question</th>\n",
       "      <th>answer</th>\n",
       "    </tr>\n",
       "  </thead>\n",
       "  <tbody>\n",
       "    <tr>\n",
       "      <th>0</th>\n",
       "      <td>Can we make this quick  Roxanne Korrine and An...</td>\n",
       "      <td>Well I thought we would start with pronunciati...</td>\n",
       "    </tr>\n",
       "    <tr>\n",
       "      <th>1</th>\n",
       "      <td>Well I thought we would start with pronunciati...</td>\n",
       "      <td>Not the hacking and gagging and spitting part ...</td>\n",
       "    </tr>\n",
       "    <tr>\n",
       "      <th>2</th>\n",
       "      <td>Not the hacking and gagging and spitting part ...</td>\n",
       "      <td>Okay then how about we try out some French cui...</td>\n",
       "    </tr>\n",
       "    <tr>\n",
       "      <th>3</th>\n",
       "      <td>Okay then how about we try out some French cui...</td>\n",
       "      <td>&lt;EOC&gt;</td>\n",
       "    </tr>\n",
       "    <tr>\n",
       "      <th>4</th>\n",
       "      <td>you are asking me out  that is so cute what is...</td>\n",
       "      <td>Forget it</td>\n",
       "    </tr>\n",
       "  </tbody>\n",
       "</table>\n",
       "</div>"
      ],
      "text/plain": [
       "                                            question  \\\n",
       "0  Can we make this quick  Roxanne Korrine and An...   \n",
       "1  Well I thought we would start with pronunciati...   \n",
       "2  Not the hacking and gagging and spitting part ...   \n",
       "3  Okay then how about we try out some French cui...   \n",
       "4  you are asking me out  that is so cute what is...   \n",
       "\n",
       "                                              answer  \n",
       "0  Well I thought we would start with pronunciati...  \n",
       "1  Not the hacking and gagging and spitting part ...  \n",
       "2  Okay then how about we try out some French cui...  \n",
       "3                                              <EOC>  \n",
       "4                                          Forget it  "
      ]
     },
     "execution_count": 3,
     "metadata": {},
     "output_type": "execute_result"
    }
   ],
   "source": [
    "# Load the QA dataset\n",
    "qa = pd.read_csv('../src/data/processed/movie_qa.txt', index_col=0)\n",
    "qa.head()"
   ]
  },
  {
   "cell_type": "markdown",
   "metadata": {},
   "source": [
    "#### Response Length"
   ]
  },
  {
   "cell_type": "markdown",
   "metadata": {},
   "source": [
    "We first look at the how long a typical response is. We start by filtering out End of conversation markers 'EOC'"
   ]
  },
  {
   "cell_type": "code",
   "execution_count": 6,
   "metadata": {},
   "outputs": [
    {
     "data": {
      "text/plain": [
       "count    221616.000000\n",
       "mean         11.083054\n",
       "std          12.630780\n",
       "min           0.000000\n",
       "25%           4.000000\n",
       "50%           7.000000\n",
       "75%          14.000000\n",
       "max         556.000000\n",
       "Name: answer, dtype: float64"
      ]
     },
     "execution_count": 6,
     "metadata": {},
     "output_type": "execute_result"
    }
   ],
   "source": [
    "# Filter out EOC\n",
    "qa_no_eoc = qa[qa.answer != '<EOC>']['answer']\n",
    "\n",
    "# Get lengths for each value\n",
    "resp_len = qa_no_eoc.apply(lambda x: len(str(x).split()))\n",
    "\n",
    "resp_len.describe()"
   ]
  },
  {
   "cell_type": "markdown",
   "metadata": {},
   "source": [
    "We see that the median response length is 7 words, but the distribution is skewed by presence of extreme outliers. Lets look at the box plot for verification."
   ]
  },
  {
   "cell_type": "code",
   "execution_count": 7,
   "metadata": {},
   "outputs": [
    {
     "data": {
      "image/png": "[encoded data removed]",
      "text/plain": [
       "<Figure size 432x288 with 1 Axes>"
      ]
     },
     "metadata": {
      "needs_background": "light"
     },
     "output_type": "display_data"
    }
   ],
   "source": [
    "# Box Plot\n",
    "_ = sns.boxplot(resp_len, orient='v')\n",
    "_ = plt.ylabel('Response Length')\n",
    "_ = plt.xlabel('')\n",
    "_ = plt.title('Box Plot Response Length')"
   ]
  },
  {
   "cell_type": "markdown",
   "metadata": {},
   "source": [
    "We remove the outliers by using the 1.5 times IQR thumb rule, so we filter out values outside range (2, 30)"
   ]
  },
  {
   "cell_type": "code",
   "execution_count": 12,
   "metadata": {},
   "outputs": [
    {
     "data": {
      "text/plain": [
       "count    173926.000000\n",
       "mean          9.990921\n",
       "std           6.379758\n",
       "min           3.000000\n",
       "25%           5.000000\n",
       "50%           8.000000\n",
       "75%          13.000000\n",
       "max          29.000000\n",
       "Name: answer, dtype: float64"
      ]
     },
     "execution_count": 12,
     "metadata": {},
     "output_type": "execute_result"
    }
   ],
   "source": [
    "filt = np.logical_and(resp_len > 2, resp_len < 30)\n",
    "resp_len_filt = resp_len[filt]\n",
    "\n",
    "resp_len_filt.describe()"
   ]
  },
  {
   "cell_type": "code",
   "execution_count": 14,
   "metadata": {},
   "outputs": [
    {
     "data": {
      "image/png": "[encoded data removed]",
      "text/plain": [
       "<Figure size 432x288 with 1 Axes>"
      ]
     },
     "metadata": {
      "needs_background": "light"
     },
     "output_type": "display_data"
    }
   ],
   "source": [
    "_ = plt.hist(resp_len_filt, density=True, bins=30)\n",
    "_ = plt.xlabel('Response Length')\n",
    "_ = plt.ylabel('Probability Density')\n",
    "_ = plt.title('Response Length Histogram (Bins=30)')"
   ]
  },
  {
   "cell_type": "markdown",
   "metadata": {},
   "source": [
    "We see that response length goes down exponentially. People prefer brevity in responses over longer sentences. This is an important insight for training batches, as the longer input sequences lead to padding in shorter sequences increasing cpu/memory usage."
   ]
  },
  {
   "cell_type": "markdown",
   "metadata": {},
   "source": [
    "#### Conversation Length"
   ]
  },
  {
   "cell_type": "markdown",
   "metadata": {},
   "source": [
    "Next we look at how long do conversations last. This can be easily inferred by looking at the eoc_markers."
   ]
  },
  {
   "cell_type": "code",
   "execution_count": 21,
   "metadata": {},
   "outputs": [
    {
     "data": {
      "text/plain": [
       "count    83097.000000\n",
       "mean         2.666955\n",
       "std          2.891798\n",
       "min          1.000000\n",
       "25%          1.000000\n",
       "50%          2.000000\n",
       "75%          3.000000\n",
       "max         88.000000\n",
       "dtype: float64"
      ]
     },
     "execution_count": 21,
     "metadata": {},
     "output_type": "execute_result"
    }
   ],
   "source": [
    "eoc_marks = sorted(list(set(qa.answer.index.values) - set(qa_no_eoc.index.values)))\n",
    "\n",
    "conv_len_arr = [eoc_marks[0]]\n",
    "for i in range(len(eoc_marks)-1):\n",
    "    conv_len_arr.append(eoc_marks[i+1] - eoc_marks[i] - 1)\n",
    "    \n",
    "conv_len = pd.Series(conv_len_arr)\n",
    "conv_len.describe()"
   ]
  },
  {
   "cell_type": "markdown",
   "metadata": {},
   "source": [
    "We again see extreme values in this distribution. 75% of the conversations are less than 3 turns. We again filter for extreme values in range (2,30) and check how many conversations are dropped."
   ]
  },
  {
   "cell_type": "code",
   "execution_count": 24,
   "metadata": {},
   "outputs": [
    {
     "name": "stdout",
     "output_type": "stream",
     "text": [
      "% kept: 99.92%\n"
     ]
    }
   ],
   "source": [
    "filt = np.logical_and(conv_len > 0, conv_len < 30)\n",
    "conv_len_filt = conv_len[filt]\n",
    "\n",
    "conv_len_filt.describe()\n",
    "print('% kept: {0:.2%}'.format(conv_len_filt.count() / conv_len.count()))"
   ]
  },
  {
   "cell_type": "code",
   "execution_count": 25,
   "metadata": {},
   "outputs": [
    {
     "data": {
      "image/png": "[encoded data removed]",
      "text/plain": [
       "<Figure size 432x288 with 1 Axes>"
      ]
     },
     "metadata": {
      "needs_background": "light"
     },
     "output_type": "display_data"
    }
   ],
   "source": [
    "_ = plt.hist(conv_len_filt, density=True, bins=30)\n",
    "_ = plt.xlabel('Conversation Length')\n",
    "_ = plt.ylabel('Probability Density')\n",
    "_ = plt.title('Conversation Length Histogram (Bins=30)')"
   ]
  },
  {
   "cell_type": "markdown",
   "metadata": {},
   "source": [
    "We see that in naturally occuring conversations, most conversations end in 2-3 turns. This gives us an insight that we can limit the number of turns to some small number, such as 5, for evaluation of the model. "
   ]
  },
  {
   "cell_type": "markdown",
   "metadata": {},
   "source": [
    "#### Most common Responses"
   ]
  },
  {
   "cell_type": "markdown",
   "metadata": {},
   "source": [
    "Next we look at the most common responses generated in the data."
   ]
  },
  {
   "cell_type": "code",
   "execution_count": 43,
   "metadata": {},
   "outputs": [
    {
     "data": {
      "text/plain": [
       "[('What', 1532),\n",
       " ('Yes', 1484),\n",
       " ('No', 1423),\n",
       " ('Yeah', 1117),\n",
       " ('Why', 502),\n",
       " ('I do not know', 397),\n",
       " ('Okay', 357),\n",
       " ('Sure', 277),\n",
       " ('Oh', 266),\n",
       " ('Thank you', 246)]"
      ]
     },
     "execution_count": 43,
     "metadata": {},
     "output_type": "execute_result"
    }
   ],
   "source": [
    "from collections import Counter\n",
    "\n",
    "resp_cnt = Counter(qa_no_eoc)\n",
    "\n",
    "resp_cnt.most_common(10)"
   ]
  },
  {
   "cell_type": "markdown",
   "metadata": {},
   "source": [
    "We see that most common responses are responses to questions and most act as conversation stoppers (with the exception of 'Why?'). We expect them to see again in the list of dull responses next."
   ]
  },
  {
   "cell_type": "code",
   "execution_count": 41,
   "metadata": {},
   "outputs": [
    {
     "data": {
      "text/plain": [
       "count    189270.000000\n",
       "mean          1.170899\n",
       "std           7.122922\n",
       "min           1.000000\n",
       "25%           1.000000\n",
       "50%           1.000000\n",
       "75%           1.000000\n",
       "max        1532.000000\n",
       "dtype: float64"
      ]
     },
     "execution_count": 41,
     "metadata": {},
     "output_type": "execute_result"
    }
   ],
   "source": [
    "resp_dist = pd.Series([i for i in resp_cnt.values()])\n",
    "resp_dist.describe()"
   ]
  },
  {
   "cell_type": "markdown",
   "metadata": {},
   "source": [
    "We see that most responses occur in the corpus only once. This should also result in model predicting unique responses."
   ]
  },
  {
   "cell_type": "markdown",
   "metadata": {},
   "source": [
    "#### Dull responses"
   ]
  },
  {
   "cell_type": "markdown",
   "metadata": {},
   "source": [
    "Identifying dull responses is an important functionality for deciding on rewards in Reinforcement learning module. We look at all the questions that result in end of conversation."
   ]
  },
  {
   "cell_type": "code",
   "execution_count": 45,
   "metadata": {},
   "outputs": [
    {
     "data": {
      "text/plain": [
       "[('No', 360),\n",
       " ('Yes', 356),\n",
       " ('Yeah', 307),\n",
       " ('What', 234),\n",
       " ('Okay', 211),\n",
       " ('Sure', 154),\n",
       " ('I do not know', 145),\n",
       " ('Thank you', 136),\n",
       " ('Oh', 120),\n",
       " ('Right', 104)]"
      ]
     },
     "execution_count": 45,
     "metadata": {},
     "output_type": "execute_result"
    }
   ],
   "source": [
    "# Questions generating a end of conversation response\n",
    "qa_dull = qa[qa.answer == '<EOC>']['question']\n",
    "\n",
    "dull_cnt = Counter(qa_dull)\n",
    "\n",
    "dull_cnt.most_common(10)"
   ]
  },
  {
   "cell_type": "markdown",
   "metadata": {},
   "source": [
    "This is again expected as these responses are stop responses that typically end a conversation."
   ]
  }
 ],
 "metadata": {
  "kernelspec": {
   "display_name": "Python 3",
   "language": "python",
   "name": "python3"
  },
  "language_info": {
   "codemirror_mode": {
    "name": "ipython",
    "version": 3
   },
   "file_extension": ".py",
   "mimetype": "text/x-python",
   "name": "python",
   "nbconvert_exporter": "python",
   "pygments_lexer": "ipython3",
   "version": "3.6.7"
  }
 },
 "nbformat": 4,
 "nbformat_minor": 2
}
