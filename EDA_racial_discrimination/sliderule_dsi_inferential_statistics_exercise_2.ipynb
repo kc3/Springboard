{
 "cells": [
  {
   "cell_type": "markdown",
   "metadata": {},
   "source": [
    "# Examining Racial Discrimination in the US Job Market\n",
    "\n",
    "### Background\n",
    "Racial discrimination continues to be pervasive in cultures throughout the world. Researchers examined the level of racial discrimination in the United States labor market by randomly assigning identical résumés to black-sounding or white-sounding names and observing the impact on requests for interviews from employers.\n",
    "\n",
    "### Data\n",
    "In the dataset provided, each row represents a resume. The 'race' column has two values, 'b' and 'w', indicating black-sounding and white-sounding. The column 'call' has two values, 1 and 0, indicating whether the resume received a call from employers or not.\n",
    "\n",
    "Note that the 'b' and 'w' values in race are assigned randomly to the resumes when presented to the employer."
   ]
  },
  {
   "cell_type": "markdown",
   "metadata": {},
   "source": [
    "### Exercises\n",
    "You will perform a statistical analysis to establish whether race has a significant impact on the rate of callbacks for resumes.\n",
    "\n",
    "Answer the following questions **in this notebook below and submit to your Github account**. \n",
    "\n",
    "   1. What test is appropriate for this problem? Does CLT apply?\n",
    "   2. What are the null and alternate hypotheses?\n",
    "   3. Compute margin of error, confidence interval, and p-value. Try using both the bootstrapping and the frequentist statistical approaches.\n",
    "   4. Write a story describing the statistical significance in the context or the original problem.\n",
    "   5. Does your analysis mean that race/name is the most important factor in callback success? Why or why not? If not, how would you amend your analysis?\n",
    "\n",
    "You can include written notes in notebook cells using Markdown: \n",
    "   - In the control panel at the top, choose Cell > Cell Type > Markdown\n",
    "   - Markdown syntax: http://nestacms.com/docs/creating-content/markdown-cheat-sheet\n",
    "\n",
    "#### Resources\n",
    "+ Experiment information and data source: http://www.povertyactionlab.org/evaluation/discrimination-job-market-united-states\n",
    "+ Scipy statistical methods: http://docs.scipy.org/doc/scipy/reference/stats.html \n",
    "+ Markdown syntax: http://nestacms.com/docs/creating-content/markdown-cheat-sheet\n",
    "+ Formulas for the Bernoulli distribution: https://en.wikipedia.org/wiki/Bernoulli_distribution"
   ]
  },
  {
   "cell_type": "code",
   "execution_count": 1,
   "metadata": {},
   "outputs": [],
   "source": [
    "import pandas as pd\n",
    "import numpy as np\n",
    "from scipy import stats"
   ]
  },
  {
   "cell_type": "code",
   "execution_count": 2,
   "metadata": {},
   "outputs": [],
   "source": [
    "data = pd.io.stata.read_stata('data/us_job_market_discrimination.dta')"
   ]
  },
  {
   "cell_type": "code",
   "execution_count": 8,
   "metadata": {},
   "outputs": [
    {
     "data": {
      "text/plain": [
       "157.0"
      ]
     },
     "execution_count": 8,
     "metadata": {},
     "output_type": "execute_result"
    }
   ],
   "source": [
    "# number of callbacks for black-sounding names\n",
    "sum(data[data.race=='b'].call)"
   ]
  },
  {
   "cell_type": "code",
   "execution_count": 4,
   "metadata": {},
   "outputs": [
    {
     "data": {
      "text/html": [
       "<div>\n",
       "<style scoped>\n",
       "    .dataframe tbody tr th:only-of-type {\n",
       "        vertical-align: middle;\n",
       "    }\n",
       "\n",
       "    .dataframe tbody tr th {\n",
       "        vertical-align: top;\n",
       "    }\n",
       "\n",
       "    .dataframe thead th {\n",
       "        text-align: right;\n",
       "    }\n",
       "</style>\n",
       "<table border=\"1\" class=\"dataframe\">\n",
       "  <thead>\n",
       "    <tr style=\"text-align: right;\">\n",
       "      <th></th>\n",
       "      <th>id</th>\n",
       "      <th>ad</th>\n",
       "      <th>education</th>\n",
       "      <th>ofjobs</th>\n",
       "      <th>yearsexp</th>\n",
       "      <th>honors</th>\n",
       "      <th>volunteer</th>\n",
       "      <th>military</th>\n",
       "      <th>empholes</th>\n",
       "      <th>occupspecific</th>\n",
       "      <th>...</th>\n",
       "      <th>compreq</th>\n",
       "      <th>orgreq</th>\n",
       "      <th>manuf</th>\n",
       "      <th>transcom</th>\n",
       "      <th>bankreal</th>\n",
       "      <th>trade</th>\n",
       "      <th>busservice</th>\n",
       "      <th>othservice</th>\n",
       "      <th>missind</th>\n",
       "      <th>ownership</th>\n",
       "    </tr>\n",
       "  </thead>\n",
       "  <tbody>\n",
       "    <tr>\n",
       "      <th>0</th>\n",
       "      <td>b</td>\n",
       "      <td>1</td>\n",
       "      <td>4</td>\n",
       "      <td>2</td>\n",
       "      <td>6</td>\n",
       "      <td>0</td>\n",
       "      <td>0</td>\n",
       "      <td>0</td>\n",
       "      <td>1</td>\n",
       "      <td>17</td>\n",
       "      <td>...</td>\n",
       "      <td>1.0</td>\n",
       "      <td>0.0</td>\n",
       "      <td>1.0</td>\n",
       "      <td>0.0</td>\n",
       "      <td>0.0</td>\n",
       "      <td>0.0</td>\n",
       "      <td>0.0</td>\n",
       "      <td>0.0</td>\n",
       "      <td>0.0</td>\n",
       "      <td></td>\n",
       "    </tr>\n",
       "    <tr>\n",
       "      <th>1</th>\n",
       "      <td>b</td>\n",
       "      <td>1</td>\n",
       "      <td>3</td>\n",
       "      <td>3</td>\n",
       "      <td>6</td>\n",
       "      <td>0</td>\n",
       "      <td>1</td>\n",
       "      <td>1</td>\n",
       "      <td>0</td>\n",
       "      <td>316</td>\n",
       "      <td>...</td>\n",
       "      <td>1.0</td>\n",
       "      <td>0.0</td>\n",
       "      <td>1.0</td>\n",
       "      <td>0.0</td>\n",
       "      <td>0.0</td>\n",
       "      <td>0.0</td>\n",
       "      <td>0.0</td>\n",
       "      <td>0.0</td>\n",
       "      <td>0.0</td>\n",
       "      <td></td>\n",
       "    </tr>\n",
       "    <tr>\n",
       "      <th>2</th>\n",
       "      <td>b</td>\n",
       "      <td>1</td>\n",
       "      <td>4</td>\n",
       "      <td>1</td>\n",
       "      <td>6</td>\n",
       "      <td>0</td>\n",
       "      <td>0</td>\n",
       "      <td>0</td>\n",
       "      <td>0</td>\n",
       "      <td>19</td>\n",
       "      <td>...</td>\n",
       "      <td>1.0</td>\n",
       "      <td>0.0</td>\n",
       "      <td>1.0</td>\n",
       "      <td>0.0</td>\n",
       "      <td>0.0</td>\n",
       "      <td>0.0</td>\n",
       "      <td>0.0</td>\n",
       "      <td>0.0</td>\n",
       "      <td>0.0</td>\n",
       "      <td></td>\n",
       "    </tr>\n",
       "    <tr>\n",
       "      <th>3</th>\n",
       "      <td>b</td>\n",
       "      <td>1</td>\n",
       "      <td>3</td>\n",
       "      <td>4</td>\n",
       "      <td>6</td>\n",
       "      <td>0</td>\n",
       "      <td>1</td>\n",
       "      <td>0</td>\n",
       "      <td>1</td>\n",
       "      <td>313</td>\n",
       "      <td>...</td>\n",
       "      <td>1.0</td>\n",
       "      <td>0.0</td>\n",
       "      <td>1.0</td>\n",
       "      <td>0.0</td>\n",
       "      <td>0.0</td>\n",
       "      <td>0.0</td>\n",
       "      <td>0.0</td>\n",
       "      <td>0.0</td>\n",
       "      <td>0.0</td>\n",
       "      <td></td>\n",
       "    </tr>\n",
       "    <tr>\n",
       "      <th>4</th>\n",
       "      <td>b</td>\n",
       "      <td>1</td>\n",
       "      <td>3</td>\n",
       "      <td>3</td>\n",
       "      <td>22</td>\n",
       "      <td>0</td>\n",
       "      <td>0</td>\n",
       "      <td>0</td>\n",
       "      <td>0</td>\n",
       "      <td>313</td>\n",
       "      <td>...</td>\n",
       "      <td>1.0</td>\n",
       "      <td>1.0</td>\n",
       "      <td>0.0</td>\n",
       "      <td>0.0</td>\n",
       "      <td>0.0</td>\n",
       "      <td>0.0</td>\n",
       "      <td>0.0</td>\n",
       "      <td>1.0</td>\n",
       "      <td>0.0</td>\n",
       "      <td>Nonprofit</td>\n",
       "    </tr>\n",
       "  </tbody>\n",
       "</table>\n",
       "<p>5 rows × 65 columns</p>\n",
       "</div>"
      ],
      "text/plain": [
       "  id ad  education  ofjobs  yearsexp  honors  volunteer  military  empholes  \\\n",
       "0  b  1          4       2         6       0          0         0         1   \n",
       "1  b  1          3       3         6       0          1         1         0   \n",
       "2  b  1          4       1         6       0          0         0         0   \n",
       "3  b  1          3       4         6       0          1         0         1   \n",
       "4  b  1          3       3        22       0          0         0         0   \n",
       "\n",
       "   occupspecific    ...      compreq  orgreq  manuf  transcom  bankreal trade  \\\n",
       "0             17    ...          1.0     0.0    1.0       0.0       0.0   0.0   \n",
       "1            316    ...          1.0     0.0    1.0       0.0       0.0   0.0   \n",
       "2             19    ...          1.0     0.0    1.0       0.0       0.0   0.0   \n",
       "3            313    ...          1.0     0.0    1.0       0.0       0.0   0.0   \n",
       "4            313    ...          1.0     1.0    0.0       0.0       0.0   0.0   \n",
       "\n",
       "  busservice othservice  missind  ownership  \n",
       "0        0.0        0.0      0.0             \n",
       "1        0.0        0.0      0.0             \n",
       "2        0.0        0.0      0.0             \n",
       "3        0.0        0.0      0.0             \n",
       "4        0.0        1.0      0.0  Nonprofit  \n",
       "\n",
       "[5 rows x 65 columns]"
      ]
     },
     "execution_count": 4,
     "metadata": {},
     "output_type": "execute_result"
    }
   ],
   "source": [
    "data.head()"
   ]
  },
  {
   "cell_type": "code",
   "execution_count": 7,
   "metadata": {},
   "outputs": [
    {
     "name": "stdout",
     "output_type": "stream",
     "text": [
      "Data contains 4870 rows.\n"
     ]
    }
   ],
   "source": [
    "# Get number of rows\n",
    "rows, cols = data.shape\n",
    "print('Data contains {0} rows.'.format(rows))"
   ]
  },
  {
   "cell_type": "code",
   "execution_count": 26,
   "metadata": {},
   "outputs": [
    {
     "name": "stdout",
     "output_type": "stream",
     "text": [
      "Sample has 157 successes and 2278 failures for blacks.\n",
      "Sample proportion of success for blacks = 6.45%\n"
     ]
    }
   ],
   "source": [
    "# Get sample proportion of blacks\n",
    "n_b = np.sum(data.race == 'b')\n",
    "n_success_b = int(np.sum(data[data.race=='b'].call))\n",
    "n_fail_b = int(n_b - n_success_b)\n",
    "p_b = n_success_b/n_b\n",
    "print('Sample has {0} successes and {1} failures for blacks.'.format(n_success_b, n_fail_b))\n",
    "print('Sample proportion of success for blacks = {:2.2%}'.format(p_b))"
   ]
  },
  {
   "cell_type": "code",
   "execution_count": 27,
   "metadata": {},
   "outputs": [
    {
     "name": "stdout",
     "output_type": "stream",
     "text": [
      "Sample has 235 successes and 2200 failures for whites.\n",
      "Sample proportion of success for whites = 9.65%\n"
     ]
    }
   ],
   "source": [
    "# Get sample proportion of blacks\n",
    "n_w = np.sum(data.race == 'w')\n",
    "n_success_w = int(np.sum(data[data.race=='w'].call))\n",
    "n_fail_w = int(n_w - n_success_w)\n",
    "p_w = n_success_w/n_w\n",
    "print('Sample has {0} successes and {1} failures for whites.'.format(n_success_w, n_fail_w))\n",
    "print('Sample proportion of success for whites = {:2.2%}'.format(p_w))"
   ]
  },
  {
   "cell_type": "markdown",
   "metadata": {
    "collapsed": true
   },
   "source": [
    "## Hypothesis testing for difference of proportions\n",
    "\n",
    "The data provided is a randomly collected sample of size $n = 4870$, with a sample proportion of success of getting a call among blacks is $\\hat{p_{b}} = 6.45$% and among whites is $\\hat{p_{w}} = 9.65$%. Given this data, the goal is to draw inferences on the differences of proportions among general population. \n",
    "\n",
    "Sample proportions are well characterized by a nearly normal distribution when certain conditions are satisﬁed, making it possible to employ the usual conﬁdence interval and hypothesis testing tools. It follows that if both sampling distributions for  sample proportions are normal, then the sampling distribution of their difference is also normal.\n",
    "\n",
    "We can use Central Limit Theorem for Hypothesis testing if the following conditions are met for each sample proportion:\n",
    "1. Randomness: Data comes from a simple random sample.\n",
    "2. Independence: Each observation will not influence another as the resumes are nearly identical. The sample is less than 10% of population.\n",
    "3. Success-Failure Condition: At least 10 success and 10 failures are seen in the sample, which is true, as there are $157$ successes and $2278$ failures for blacks and $235$ successes and $2200$ failures for whites respectively.\n",
    "4. Independence between groups: Since a person can either be black or white and not both, we can assume independence among groups.\n",
    "\n",
    "As all conditions are met, *Central Limit Theorem applies* with following hypothesis:\n",
    "- *Null Hypothesis*: Population proportions are same.\n",
    "> $p_{w} - p_{b} = 0$\n",
    "- *Alternative Hypothesis*: Population proportions are different.\n",
    "> $p_{w} - p_{b} \\neq 0$\n",
    "\n",
    "where $p_{w}$ and $p_{b}$ are population propertions for whites and blacks respectively. We pick a significance level of $5$% for this test to construct a $95$% confidence interval."
   ]
  },
  {
   "cell_type": "code",
   "execution_count": 37,
   "metadata": {},
   "outputs": [],
   "source": [
    "w = data[data.race=='w']\n",
    "b = data[data.race=='b']"
   ]
  },
  {
   "cell_type": "markdown",
   "metadata": {
    "collapsed": true
   },
   "source": [
    "### Parametric Hypothesis testing "
   ]
  },
  {
   "cell_type": "code",
   "execution_count": 34,
   "metadata": {},
   "outputs": [
    {
     "name": "stdout",
     "output_type": "stream",
     "text": [
      "Standard Error=0.008\n",
      "Point Estimate=0.032\n",
      "Z-Score=4.116, P-Value=0.004%\n",
      "Margin of Error=0.015, 95% Confidence Interval=(0.017,0.047)\n"
     ]
    }
   ],
   "source": [
    "from scipy.stats import norm\n",
    "\n",
    "# Standard Error\n",
    "var_w = p_w*(1-p_w)\n",
    "var_b = p_b*(1-p_b)\n",
    "se = np.sqrt(var_w/n_w + var_b/n_b)\n",
    "print('Standard Error={0:0.3f}'.format(se))\n",
    "\n",
    "# Point Estimate\n",
    "pe = p_w - p_b\n",
    "print('Point Estimate={0:0.3f}'.format(pe))\n",
    "\n",
    "# Z Score\n",
    "z_score = pe / se\n",
    "p_val = 2*(1 - norm.cdf(z_score))\n",
    "print('Z-Score={0:0.3f}, P-Value={1:0.3%}'.format(z_score, p_val))\n",
    "\n",
    "# Margin of Error for 95% CI\n",
    "me = norm.ppf(0.975) * se\n",
    "print('Margin of Error={0:0.3f}, 95% Confidence Interval=({1:0.3f},{2:0.3f})'.format(me, pe-me, pe+me))"
   ]
  },
  {
   "cell_type": "code",
   "execution_count": 25,
   "metadata": {},
   "outputs": [
    {
     "name": "stdout",
     "output_type": "stream",
     "text": [
      "Z-Score=4.108, P-Value=0.004%\n"
     ]
    }
   ],
   "source": [
    "# Directly using statsmodel\n",
    "from statsmodels.stats.proportion import proportions_ztest\n",
    "stat, p_val = proportions_ztest([n_success_w, n_success_b], [n_w, n_b])\n",
    "print('Z-Score={0:0.3f}, P-Value={1:0.3%}'.format(stat, p_val))"
   ]
  },
  {
   "cell_type": "code",
   "execution_count": 35,
   "metadata": {},
   "outputs": [
    {
     "name": "stdout",
     "output_type": "stream",
     "text": [
      "Z-Score=16.879, P-Value=0.004%\n"
     ]
    }
   ],
   "source": [
    "# Directly using statsmodel (chi-squared)\n",
    "from statsmodels.stats.proportion import proportions_chisquare\n",
    "stat, p_val, tbl = proportions_chisquare([n_success_w, n_success_b], [n_w, n_b])\n",
    "print('Z-Score={0:0.3f}, P-Value={1:0.3%}'.format(stat, p_val))"
   ]
  },
  {
   "cell_type": "markdown",
   "metadata": {},
   "source": [
    "### Bootstrap Hypothesis testing\n",
    "\n",
    "Bootstrap testing is accomplished using permutation, the call success data is randomly shuffled between two groups and p-value is computed as proportion of samples as extreme as the observed one."
   ]
  },
  {
   "cell_type": "code",
   "execution_count": 55,
   "metadata": {},
   "outputs": [
    {
     "name": "stdout",
     "output_type": "stream",
     "text": [
      "P-Value=0.000%\n"
     ]
    }
   ],
   "source": [
    "# Permutation Testing\n",
    "def permutation_sample(data1, data2):\n",
    "    \"\"\"Draws a permuted sample from data1 and data2.\"\"\"\n",
    "    \n",
    "    x = np.concatenate((data1, data2))\n",
    "    x_p = np.random.permutation(x)\n",
    "    d_1 = x_p[:len(data1)]\n",
    "    d_2 = x_p[len(data1):]\n",
    "    \n",
    "    return d_1, d_2\n",
    "\n",
    "def draw_perm_reps(data1, data2, func, size=1):\n",
    "    \"\"\"Computes test statistic func size times from random permutations of data1, data2 datasets.\"\"\"\n",
    "    \n",
    "    p_r = np.empty(size)\n",
    "    for i in range(size):\n",
    "        d_1, d_2 = permutation_sample(data1, data2)\n",
    "        p_r[i] = func(d_1, d_2)\n",
    "    \n",
    "    return p_r\n",
    "\n",
    "def diff_of_proportions(data1, data2):\n",
    "    \"\"\"Computes a difference of proportions between two datasets for Bernoulli trials.\"\"\"\n",
    "    return abs(np.sum(data1) / len(data1) - np.sum(data2)/ len(data2))\n",
    "\n",
    "w_call = w.call.astype(int).values\n",
    "b_call = b.call.astype(int).values\n",
    "\n",
    "# Draw permutation samples\n",
    "num_trials=100\n",
    "p_bs = draw_perm_reps(w_call, b_call, diff_of_proportions, num_trials)\n",
    "\n",
    "# P-Value\n",
    "p_val = np.sum(p_bs >= abs(p_w - p_b)) / len(p_bs)\n",
    "print('P-Value={0:0.3%}'.format(p_val))"
   ]
  },
  {
   "cell_type": "markdown",
   "metadata": {},
   "source": [
    "*Since p-value is less than the significance level of $5$%, the difference in sample proportions is significantly different.*"
   ]
  },
  {
   "cell_type": "markdown",
   "metadata": {},
   "source": [
    "## Conclusion"
   ]
  },
  {
   "cell_type": "markdown",
   "metadata": {},
   "source": [
    "Based on both simulations and parametric testing, the null hypothesis is rejected and we can say with 95% confidence that the population proportions for the *two groups are significantly different, and whites are 1.7% to 4.7% more likely to get calls over blacks.*\n",
    "\n",
    "This analysis only compared effect of race on the proportion of successful calls. However, for finding out which factor is most significant, the following methods could be used:\n",
    "- Perform Logistic Regression analysis on the dataset and look at p-values for the co-efficients. This approach will be affected by collinearity, in which case, groups of independent variables should be tested together to remove collinearity.\n",
    "- Look at Pearson correlation coefficients between independent and dependent variables. Again remove or combine highly correlated features for removing collinearity."
   ]
  }
 ],
 "metadata": {
  "kernelspec": {
   "display_name": "Python 3",
   "language": "python",
   "name": "python3"
  },
  "language_info": {
   "codemirror_mode": {
    "name": "ipython",
    "version": 3
   },
   "file_extension": ".py",
   "mimetype": "text/x-python",
   "name": "python",
   "nbconvert_exporter": "python",
   "pygments_lexer": "ipython3",
   "version": "3.6.6"
  }
 },
 "nbformat": 4,
 "nbformat_minor": 1
}
