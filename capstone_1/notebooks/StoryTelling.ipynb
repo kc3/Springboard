{
 "cells": [
  {
   "cell_type": "markdown",
   "metadata": {},
   "source": [
    "## Data Insights on Stanford Sentiment Treebank"
   ]
  },
  {
   "cell_type": "markdown",
   "metadata": {},
   "source": [
    "The Stanford Sentiment Treebank Dataset contains fully labeled parse trees giving us sentiment for each word and well as phrases that can be obtained by performing constituency parsing of the trees.\n",
    "\n",
    "One of the first goals is to examine how each class labels are distributed throughout the training data set."
   ]
  },
  {
   "cell_type": "markdown",
   "metadata": {},
   "source": [
    "### Class label distribution in training data."
   ]
  },
  {
   "cell_type": "markdown",
   "metadata": {},
   "source": [
    "One of the main goals of the experiment is to model the dataset based on "
   ]
  },
  {
   "cell_type": "code",
   "execution_count": 1,
   "metadata": {},
   "outputs": [],
   "source": [
    "# Imports\n",
    "import os\n",
    "import sys\n",
    "import numpy as np\n",
    "import matplotlib.pyplot as plt\n",
    "import seaborn as sns"
   ]
  },
  {
   "cell_type": "code",
   "execution_count": 2,
   "metadata": {},
   "outputs": [],
   "source": [
    "# Set path for models\n",
    "PROJ_ROOT = os.pardir\n",
    "sys.path.append(PROJ_ROOT)\n",
    "from src.features.tree import Tree\n",
    "from src.models.data_manager import DataManager"
   ]
  },
  {
   "cell_type": "code",
   "execution_count": 3,
   "metadata": {},
   "outputs": [
    {
     "name": "stdout",
     "output_type": "stream",
     "text": [
      "Class Distribution of Sentiment Labels: [  8245.  34362. 219788.  44194.  11993.]\n"
     ]
    }
   ],
   "source": [
    "# Function to get class distribution in a node\n",
    "label_size = 5\n",
    "def get_num_labels(node):\n",
    "    \"\"\"Function to get number of labels of each type under a given tree structure.\"\"\"\n",
    "    r = np.zeros(label_size)\n",
    "    r[node.label] = 1\n",
    "    if node.isLeaf:\n",
    "        return r\n",
    "    else:\n",
    "        return get_num_labels(node.left) + get_num_labels(node.right) + r\n",
    "\n",
    "# Get parsed trees\n",
    "trees_path = '../src/data/interim/trainDevTestTrees_PTB/trees/'\n",
    "x_train = DataManager(trees_path).x_train\n",
    "\n",
    "y = np.zeros(label_size)\n",
    "for i in range(len(x_train)):\n",
    "    y += get_num_labels(x_train[i].root)\n",
    "\n",
    "print('Class Distribution of Sentiment Labels: {0}'.format(y))"
   ]
  },
  {
   "cell_type": "code",
   "execution_count": 16,
   "metadata": {},
   "outputs": [
    {
     "data": {
      "image/png": "[encoded data removed]",
      "text/plain": [
       "<Figure size 432x288 with 1 Axes>"
      ]
     },
     "metadata": {
      "needs_background": "light"
     },
     "output_type": "display_data"
    }
   ],
   "source": [
    "# Plot the distribution\n",
    "_ = sns.barplot(list(range(5)), y)\n",
    "_ = plt.xlabel('Sentiment Label')\n",
    "_ = plt.ylabel('Number of instances')\n",
    "_ = plt.title('Class Distribution of Sentiment Labels for all nodes')"
   ]
  },
  {
   "cell_type": "markdown",
   "metadata": {},
   "source": [
    "The class distribution is very heavily skewed towards neutral values. This class imbalance will influence the training of neural network and needs to be handled."
   ]
  },
  {
   "cell_type": "code",
   "execution_count": 19,
   "metadata": {},
   "outputs": [
    {
     "name": "stdout",
     "output_type": "stream",
     "text": [
      "Class Distribution of Root Sentiment Labels: [1092. 2218. 1624. 2322. 1288.]\n"
     ]
    }
   ],
   "source": [
    "y_root = np.zeros(label_size)\n",
    "for i in range(len(x_train)):\n",
    "    r = np.zeros(label_size)\n",
    "    r[x_train[i].root.label] = 1\n",
    "    y_root += r\n",
    "\n",
    "print('Class Distribution of Root Sentiment Labels: {0}'.format(y_root))"
   ]
  },
  {
   "cell_type": "code",
   "execution_count": 20,
   "metadata": {},
   "outputs": [
    {
     "data": {
      "image/png": "[encoded data removed]",
      "text/plain": [
       "<Figure size 432x288 with 1 Axes>"
      ]
     },
     "metadata": {
      "needs_background": "light"
     },
     "output_type": "display_data"
    }
   ],
   "source": [
    "# Plot the distribution of nodes for root nodes\n",
    "_ = sns.barplot(list(range(5)), y_root)\n",
    "_ = plt.xlabel('Sentiment Label')\n",
    "_ = plt.ylabel('Number of instances')\n",
    "_ = plt.title('Class Distribution of Sentiment Labels for root nodes')"
   ]
  },
  {
   "cell_type": "markdown",
   "metadata": {},
   "source": [
    "The nodes for root sentiment labels are more evenly distributed, and the minor class imbalance will again be corrected for training."
   ]
  },
  {
   "cell_type": "code",
   "execution_count": 33,
   "metadata": {},
   "outputs": [],
   "source": [
    "### Top Positive and Negative words\n",
    "\n",
    "from collections import defaultdict, Counter\n",
    "\n",
    "vocab = defaultdict(list)\n",
    "for i in range(len(x_train)):\n",
    "    tree = x_train[i]\n",
    "    stack = [tree.root]\n",
    "    while stack:\n",
    "        node = stack.pop()\n",
    "        if node.isLeaf:\n",
    "            vocab[node.word].append(node.label)\n",
    "        else:\n",
    "            stack.append(node.right)\n",
    "            stack.append(node.left)\n",
    "\n",
    "vocab_mean = defaultdict(float)\n",
    "for k,v in vocab.items():\n",
    "    vocab_mean[k] = np.mean(v)"
   ]
  },
  {
   "cell_type": "code",
   "execution_count": 34,
   "metadata": {},
   "outputs": [
    {
     "name": "stdout",
     "output_type": "stream",
     "text": [
      "Most positive words: charming,playful,astonishing,ingeniously,fun,pure,excellent,award-winning,terrific,Freedom,love,Great,creative,humor,great,beautiful,pleasure,better,sweet,perfect,smart,best,happy,funniest,glorious,delightful,honest,joy,masterpiece,fresh,slam-dunk,encourage,entertaining,impressive,brilliantly,shines,powerful,thoughtful,Oscar-worthy,nicest,pretty,remarkable,laughing,marvelous,worthy,laughter,enthralling,captivating,goodies,Oscar-sweeping\n"
     ]
    }
   ],
   "source": [
    "positive_words = [x[0] for x in Counter(vocab_mean).most_common(50)]\n",
    "print('Most positive words: ' + ','.join(positive_words))"
   ]
  },
  {
   "cell_type": "code",
   "execution_count": 35,
   "metadata": {},
   "outputs": [
    {
     "name": "stdout",
     "output_type": "stream",
     "text": [
      "Most negative words: Goddammit,Flawed,artless,bitchy,bruised,negativity,inferior,disinterest,disappoints,cringe,downer,grotesquely,horrendously,Snide,cold-fish,dehumanizing,pissed,trash-cinema,car-wreck,stalking\n"
     ]
    }
   ],
   "source": [
    "negative_words = [i[0] for i in sorted(vocab.items(), key=lambda x: x[1])]\n",
    "print('Most negative words: ' + ','.join(negative_words[:20]))"
   ]
  },
  {
   "cell_type": "markdown",
   "metadata": {},
   "source": [
    "The sentiments for both kinds of words match expectations. One of the cross-checks would be to validate the generated word-embeddings against these sentiment values."
   ]
  }
 ],
 "metadata": {
  "kernelspec": {
   "display_name": "Python 3",
   "language": "python",
   "name": "python3"
  },
  "language_info": {
   "codemirror_mode": {
    "name": "ipython",
    "version": 3
   },
   "file_extension": ".py",
   "mimetype": "text/x-python",
   "name": "python",
   "nbconvert_exporter": "python",
   "pygments_lexer": "ipython3",
   "version": "3.6.7"
  }
 },
 "nbformat": 4,
 "nbformat_minor": 2
}
