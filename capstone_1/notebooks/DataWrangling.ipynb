{
 "cells": [
  {
   "cell_type": "markdown",
   "metadata": {},
   "source": [
    "## Data Wrangling on Stanford Sentiment Treebank"
   ]
  },
  {
   "cell_type": "markdown",
   "metadata": {},
   "source": [
    "Report on investigation of the Stanford Sentiment Treebank Dataset."
   ]
  },
  {
   "cell_type": "markdown",
   "metadata": {},
   "source": [
    "### Data Description"
   ]
  },
  {
   "cell_type": "markdown",
   "metadata": {},
   "source": [
    "The Stanford Sentiment Treebank Corpus <cite data-cite=\"Socher13recursivedeep\">(Socher, 2013)</cite> is a standardised dataset that is used in many benchmarks such as GLUE. As such we do not expect to find any data inconsistencies or incomplete or missing data in the datasets.\n",
    "\n",
    "The Treebank consists of fully labeled parse trees that allows for a complete analysis of the compositional effects of\n",
    "sentiment in language. The corpus is based on the dataset introduced by <cite data-cite=\"P05-1015\">(Pang and Lee, 2005)</cite> and consists of 11,855 single sentences extracted from movie reviews.\n",
    "\n"
   ]
  },
  {
   "cell_type": "markdown",
   "metadata": {},
   "source": [
    "The sentences in the treebank were split into a train (8544), dev (1101) and test splits (2210) and these splits are made available with the data release [here](https://nlp.stanford.edu/sentiment)."
   ]
  },
  {
   "cell_type": "markdown",
   "metadata": {},
   "source": [
    "### Parsing Sentiment Tree"
   ]
  },
  {
   "cell_type": "markdown",
   "metadata": {},
   "source": [
    "A typical training sample looks like this:\n",
    "> (3 (2 But) (3 (2 he) (3 (2 somehow) (3 (3 (2 (2 pulls) (2 it)) (1 off)) (2 .)))))"
   ]
  },
  {
   "cell_type": "markdown",
   "metadata": {},
   "source": [
    "One of the main checks on the first examination of data was to make sure that all trees could be parsed into properly formed trees. The tree nodes had to satisfy the following properties:\n",
    "* Each node was either a leaf or an intermediate node with exactly two children.\n",
    "* A Leaf Node must have a sentiment label and a word associated with it.\n",
    "* Leaf Nodes have no children.\n",
    "* An Intermediate Node must have exactly two children and a sentiment label associated with it.\n",
    "* Intermediate Nodes do not have any word association."
   ]
  },
  {
   "cell_type": "markdown",
   "metadata": {},
   "source": [
    "Tests were written to verify that the entire training dataset satisfied the above properties [test_tree.py](https://github.com/kc3/Springboard/blob/master/capstone_1/src/features/test_tree.py)"
   ]
  },
  {
   "cell_type": "markdown",
   "metadata": {},
   "source": [
    "### Environment Setup"
   ]
  },
  {
   "cell_type": "code",
   "execution_count": 4,
   "metadata": {},
   "outputs": [],
   "source": [
    "from __future__ import print_function\n",
    "\n",
    "import os\n",
    "import sys\n",
    "\n",
    "import numpy as np\n",
    "import pandas as pd"
   ]
  },
  {
   "cell_type": "code",
   "execution_count": 5,
   "metadata": {},
   "outputs": [],
   "source": [
    "PROJ_ROOT = os.pardir"
   ]
  },
  {
   "cell_type": "code",
   "execution_count": 6,
   "metadata": {},
   "outputs": [],
   "source": [
    "# Add local python functions\n",
    "sys.path.append(os.path.join(PROJ_ROOT, \"src\"))"
   ]
  },
  {
   "cell_type": "markdown",
   "metadata": {},
   "source": [
    "### Parsing Example"
   ]
  },
  {
   "cell_type": "markdown",
   "metadata": {},
   "source": [
    "The following code parses the tree and rewrites it back as a text."
   ]
  },
  {
   "cell_type": "code",
   "execution_count": 7,
   "metadata": {},
   "outputs": [],
   "source": [
    "from features.tree import Tree"
   ]
  },
  {
   "cell_type": "code",
   "execution_count": 8,
   "metadata": {},
   "outputs": [
    {
     "name": "stdout",
     "output_type": "stream",
     "text": [
      "But he somehow pulls it off .\n"
     ]
    }
   ],
   "source": [
    "x = '(3 (2 But) (3 (2 he) (3 (2 somehow) (3 (3 (2 (2 pulls) (2 it)) (1 off)) (2 .)))))'\n",
    "t = Tree(x)\n",
    "print(t.text())"
   ]
  },
  {
   "cell_type": "markdown",
   "metadata": {},
   "source": [
    "In addition for aiding visualization in flask, a JSON conversion had to be defined."
   ]
  },
  {
   "cell_type": "code",
   "execution_count": 12,
   "metadata": {},
   "outputs": [
    {
     "name": "stdout",
     "output_type": "stream",
     "text": [
      "{\n",
      "    \"label\": 3,\n",
      "    \"left\": {\n",
      "        \"label\": 2,\n",
      "        \"left\": {},\n",
      "        \"probabilities\": null,\n",
      "        \"right\": {},\n",
      "        \"word\": \"But\"\n",
      "    },\n",
      "    \"probabilities\": null,\n",
      "    \"right\": {\n",
      "        \"label\": 3,\n",
      "        \"left\": {\n",
      "            \"label\": 2,\n",
      "            \"left\": {},\n",
      "            \"probabilities\": null,\n",
      "            \"right\": {},\n",
      "            \"word\": \"he\"\n",
      "        },\n",
      "        \"probabilities\": null,\n",
      "        \"right\": {\n",
      "            \"label\": 3,\n",
      "            \"left\": {\n",
      "                \"label\": 2,\n",
      "                \"left\": {},\n",
      "                \"probabilities\": null,\n",
      "                \"right\": {},\n",
      "                \"word\": \"somehow\"\n",
      "            },\n",
      "            \"probabilities\": null,\n",
      "            \"right\": {\n",
      "                \"label\": 3,\n",
      "                \"left\": {\n",
      "                    \"label\": 3,\n",
      "                    \"left\": {\n",
      "                        \"label\": 2,\n",
      "                        \"left\": {\n",
      "                            \"label\": 2,\n",
      "                            \"left\": {},\n",
      "                            \"probabilities\": null,\n",
      "                            \"right\": {},\n",
      "                            \"word\": \"pulls\"\n",
      "                        },\n",
      "                        \"probabilities\": null,\n",
      "                        \"right\": {\n",
      "                            \"label\": 2,\n",
      "                            \"left\": {},\n",
      "                            \"probabilities\": null,\n",
      "                            \"right\": {},\n",
      "                            \"word\": \"it\"\n",
      "                        },\n",
      "                        \"word\": null\n",
      "                    },\n",
      "                    \"probabilities\": null,\n",
      "                    \"right\": {\n",
      "                        \"label\": 1,\n",
      "                        \"left\": {},\n",
      "                        \"probabilities\": null,\n",
      "                        \"right\": {},\n",
      "                        \"word\": \"off\"\n",
      "                    },\n",
      "                    \"word\": null\n",
      "                },\n",
      "                \"probabilities\": null,\n",
      "                \"right\": {\n",
      "                    \"label\": 2,\n",
      "                    \"left\": {},\n",
      "                    \"probabilities\": null,\n",
      "                    \"right\": {},\n",
      "                    \"word\": \".\"\n",
      "                },\n",
      "                \"word\": null\n",
      "            },\n",
      "            \"word\": null\n",
      "        },\n",
      "        \"word\": null\n",
      "    },\n",
      "    \"word\": null\n",
      "}\n"
     ]
    }
   ],
   "source": [
    "print(json.dumps(t.to_json(), indent=4, sort_keys=True))"
   ]
  },
  {
   "cell_type": "markdown",
   "metadata": {},
   "source": [
    "### Caching the parsed trees"
   ]
  },
  {
   "cell_type": "markdown",
   "metadata": {},
   "source": [
    "To save memory and cpu time on parsing trees a singleton object was defined [DataManager](https://github.com/kc3/Springboard/blob/master/capstone_1/src/models/data_manager.py)"
   ]
  },
  {
   "cell_type": "markdown",
   "metadata": {},
   "source": [
    "The parsed trees for all the three datasets (train, dev, test) were generated and the above conditions were checked for using asserts in the code."
   ]
  }
 ],
 "metadata": {
  "kernelspec": {
   "display_name": "Python 3",
   "language": "python",
   "name": "python3"
  },
  "language_info": {
   "codemirror_mode": {
    "name": "ipython",
    "version": 3
   },
   "file_extension": ".py",
   "mimetype": "text/x-python",
   "name": "python",
   "nbconvert_exporter": "python",
   "pygments_lexer": "ipython3",
   "version": "3.6.7"
  }
 },
 "nbformat": 4,
 "nbformat_minor": 2
}
