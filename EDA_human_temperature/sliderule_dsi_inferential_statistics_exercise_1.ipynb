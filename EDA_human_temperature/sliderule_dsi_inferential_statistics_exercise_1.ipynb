{
 "cells": [
  {
   "cell_type": "markdown",
   "metadata": {},
   "source": [
    "# What is the True Normal Human Body Temperature? \n",
    "\n",
    "#### Background\n",
    "\n",
    "The mean normal body temperature was held to be 37$^{\\circ}$C or 98.6$^{\\circ}$F for more than 120 years since it was first conceptualized and reported by Carl Wunderlich in a famous 1868 book. But, is this value statistically correct?"
   ]
  },
  {
   "cell_type": "markdown",
   "metadata": {},
   "source": [
    "<h3>Exercises</h3>\n",
    "\n",
    "<p>In this exercise, you will analyze a dataset of human body temperatures and employ the concepts of hypothesis testing, confidence intervals, and statistical significance.</p>\n",
    "\n",
    "<p>Answer the following questions <b>in this notebook below and submit to your Github account</b>.</p> \n",
    "\n",
    "<ol>\n",
    "<li>  Is the distribution of body temperatures normal? \n",
    "    <ul>\n",
    "    <li> Although this is not a requirement for the Central Limit Theorem to hold (read the introduction on Wikipedia's page about the CLT carefully: https://en.wikipedia.org/wiki/Central_limit_theorem), it gives us some peace of mind that the population may also be normally distributed if we assume that this sample is representative of the population.\n",
    "    <li> Think about the way you're going to check for the normality of the distribution. Graphical methods are usually used first, but there are also other ways: https://en.wikipedia.org/wiki/Normality_test\n",
    "    </ul>\n",
    "<li>  Is the sample size large? Are the observations independent?\n",
    "    <ul>\n",
    "    <li> Remember that this is a condition for the Central Limit Theorem, and hence the statistical tests we are using, to apply.\n",
    "    </ul>\n",
    "<li>  Is the true population mean really 98.6 degrees F?\n",
    "    <ul>\n",
    "    <li> First, try a bootstrap hypothesis test.\n",
    "    <li> Now, let's try frequentist statistical testing. Would you use a one-sample or two-sample test? Why?\n",
    "    <li> In this situation, is it appropriate to use the $t$ or $z$ statistic? \n",
    "    <li> Now try using the other test. How is the result be different? Why?\n",
    "    </ul>\n",
    "<li>  Draw a small sample of size 10 from the data and repeat both frequentist tests. \n",
    "    <ul>\n",
    "    <li> Which one is the correct one to use? \n",
    "    <li> What do you notice? What does this tell you about the difference in application of the $t$ and $z$ statistic?\n",
    "    </ul>\n",
    "<li>  At what temperature should we consider someone's temperature to be \"abnormal\"?\n",
    "    <ul>\n",
    "    <li> As in the previous example, try calculating everything using the boostrap approach, as well as the frequentist approach.\n",
    "    <li> Start by computing the margin of error and confidence interval. When calculating the confidence interval, keep in mind that you should use the appropriate formula for one draw, and not N draws.\n",
    "    </ul>\n",
    "<li>  Is there a significant difference between males and females in normal temperature?\n",
    "    <ul>\n",
    "    <li> What testing approach did you use and why?\n",
    "    <li> Write a story with your conclusion in the context of the original problem.\n",
    "    </ul>\n",
    "</ol>\n",
    "\n",
    "You can include written notes in notebook cells using Markdown: \n",
    "   - In the control panel at the top, choose Cell > Cell Type > Markdown\n",
    "   - Markdown syntax: http://nestacms.com/docs/creating-content/markdown-cheat-sheet\n",
    "\n",
    "#### Resources\n",
    "\n",
    "+ Information and data sources: http://www.amstat.org/publications/jse/datasets/normtemp.txt, http://www.amstat.org/publications/jse/jse_data_archive.htm\n",
    "+ Markdown syntax: http://nestacms.com/docs/creating-content/markdown-cheat-sheet\n",
    "\n",
    "****"
   ]
  },
  {
   "cell_type": "code",
   "execution_count": 101,
   "metadata": {},
   "outputs": [],
   "source": [
    "import pandas as pd\n",
    "\n",
    "data_frame = pd.read_csv('data/human_body_temperature.csv')"
   ]
  },
  {
   "cell_type": "markdown",
   "metadata": {},
   "source": [
    "# Data Exploration"
   ]
  },
  {
   "cell_type": "code",
   "execution_count": 102,
   "metadata": {},
   "outputs": [
    {
     "data": {
      "text/html": [
       "<div>\n",
       "<style scoped>\n",
       "    .dataframe tbody tr th:only-of-type {\n",
       "        vertical-align: middle;\n",
       "    }\n",
       "\n",
       "    .dataframe tbody tr th {\n",
       "        vertical-align: top;\n",
       "    }\n",
       "\n",
       "    .dataframe thead th {\n",
       "        text-align: right;\n",
       "    }\n",
       "</style>\n",
       "<table border=\"1\" class=\"dataframe\">\n",
       "  <thead>\n",
       "    <tr style=\"text-align: right;\">\n",
       "      <th></th>\n",
       "      <th>temperature</th>\n",
       "      <th>gender</th>\n",
       "      <th>heart_rate</th>\n",
       "    </tr>\n",
       "  </thead>\n",
       "  <tbody>\n",
       "    <tr>\n",
       "      <th>0</th>\n",
       "      <td>99.3</td>\n",
       "      <td>F</td>\n",
       "      <td>68.0</td>\n",
       "    </tr>\n",
       "    <tr>\n",
       "      <th>1</th>\n",
       "      <td>98.4</td>\n",
       "      <td>F</td>\n",
       "      <td>81.0</td>\n",
       "    </tr>\n",
       "    <tr>\n",
       "      <th>2</th>\n",
       "      <td>97.8</td>\n",
       "      <td>M</td>\n",
       "      <td>73.0</td>\n",
       "    </tr>\n",
       "    <tr>\n",
       "      <th>3</th>\n",
       "      <td>99.2</td>\n",
       "      <td>F</td>\n",
       "      <td>66.0</td>\n",
       "    </tr>\n",
       "    <tr>\n",
       "      <th>4</th>\n",
       "      <td>98.0</td>\n",
       "      <td>F</td>\n",
       "      <td>73.0</td>\n",
       "    </tr>\n",
       "  </tbody>\n",
       "</table>\n",
       "</div>"
      ],
      "text/plain": [
       "   temperature gender  heart_rate\n",
       "0         99.3      F        68.0\n",
       "1         98.4      F        81.0\n",
       "2         97.8      M        73.0\n",
       "3         99.2      F        66.0\n",
       "4         98.0      F        73.0"
      ]
     },
     "execution_count": 102,
     "metadata": {},
     "output_type": "execute_result"
    }
   ],
   "source": [
    "data_frame.head()"
   ]
  },
  {
   "cell_type": "code",
   "execution_count": 103,
   "metadata": {},
   "outputs": [
    {
     "data": {
      "text/html": [
       "<div>\n",
       "<style scoped>\n",
       "    .dataframe tbody tr th:only-of-type {\n",
       "        vertical-align: middle;\n",
       "    }\n",
       "\n",
       "    .dataframe tbody tr th {\n",
       "        vertical-align: top;\n",
       "    }\n",
       "\n",
       "    .dataframe thead th {\n",
       "        text-align: right;\n",
       "    }\n",
       "</style>\n",
       "<table border=\"1\" class=\"dataframe\">\n",
       "  <thead>\n",
       "    <tr style=\"text-align: right;\">\n",
       "      <th></th>\n",
       "      <th>temperature</th>\n",
       "      <th>heart_rate</th>\n",
       "    </tr>\n",
       "  </thead>\n",
       "  <tbody>\n",
       "    <tr>\n",
       "      <th>count</th>\n",
       "      <td>130.000000</td>\n",
       "      <td>130.000000</td>\n",
       "    </tr>\n",
       "    <tr>\n",
       "      <th>mean</th>\n",
       "      <td>98.249231</td>\n",
       "      <td>73.761538</td>\n",
       "    </tr>\n",
       "    <tr>\n",
       "      <th>std</th>\n",
       "      <td>0.733183</td>\n",
       "      <td>7.062077</td>\n",
       "    </tr>\n",
       "    <tr>\n",
       "      <th>min</th>\n",
       "      <td>96.300000</td>\n",
       "      <td>57.000000</td>\n",
       "    </tr>\n",
       "    <tr>\n",
       "      <th>25%</th>\n",
       "      <td>97.800000</td>\n",
       "      <td>69.000000</td>\n",
       "    </tr>\n",
       "    <tr>\n",
       "      <th>50%</th>\n",
       "      <td>98.300000</td>\n",
       "      <td>74.000000</td>\n",
       "    </tr>\n",
       "    <tr>\n",
       "      <th>75%</th>\n",
       "      <td>98.700000</td>\n",
       "      <td>79.000000</td>\n",
       "    </tr>\n",
       "    <tr>\n",
       "      <th>max</th>\n",
       "      <td>100.800000</td>\n",
       "      <td>89.000000</td>\n",
       "    </tr>\n",
       "  </tbody>\n",
       "</table>\n",
       "</div>"
      ],
      "text/plain": [
       "       temperature  heart_rate\n",
       "count   130.000000  130.000000\n",
       "mean     98.249231   73.761538\n",
       "std       0.733183    7.062077\n",
       "min      96.300000   57.000000\n",
       "25%      97.800000   69.000000\n",
       "50%      98.300000   74.000000\n",
       "75%      98.700000   79.000000\n",
       "max     100.800000   89.000000"
      ]
     },
     "execution_count": 103,
     "metadata": {},
     "output_type": "execute_result"
    }
   ],
   "source": [
    "data_frame.describe()"
   ]
  },
  {
   "cell_type": "code",
   "execution_count": 104,
   "metadata": {},
   "outputs": [
    {
     "name": "stdout",
     "output_type": "stream",
     "text": [
      "<class 'pandas.core.frame.DataFrame'>\n",
      "RangeIndex: 130 entries, 0 to 129\n",
      "Data columns (total 3 columns):\n",
      "temperature    130 non-null float64\n",
      "gender         130 non-null object\n",
      "heart_rate     130 non-null float64\n",
      "dtypes: float64(2), object(1)\n",
      "memory usage: 3.1+ KB\n"
     ]
    }
   ],
   "source": [
    "data_frame.info()"
   ]
  },
  {
   "cell_type": "markdown",
   "metadata": {},
   "source": [
    "The data is composed of tuples of (temperature, gender and heart rate). There are 130 values of type float for temperature with no missing values. The temperatures vary between 96.3 and 100.8 with mean of 98.24 and standard deviation of 0.733183. The inter-quantile range shows that, half of these observations lie in (97.8, 98.7)."
   ]
  },
  {
   "cell_type": "markdown",
   "metadata": {},
   "source": [
    "# Data Visualization"
   ]
  },
  {
   "cell_type": "markdown",
   "metadata": {},
   "source": [
    "We now look at both quantitative and qualitative characteristics of the distribution to check for normality."
   ]
  },
  {
   "cell_type": "code",
   "execution_count": 105,
   "metadata": {},
   "outputs": [],
   "source": [
    "import numpy as np\n",
    "import matplotlib.pyplot as plt\n",
    "import seaborn as sns\n",
    "from scipy.stats import norm\n",
    "from scipy.stats import probplot\n",
    "import statsmodels\n",
    "\n",
    "sns.set()\n",
    "\n",
    "# Slice temperature data\n",
    "temperatures = data_frame['temperature']"
   ]
  },
  {
   "cell_type": "markdown",
   "metadata": {},
   "source": [
    "We first look at the box plot to get a sense of how the data is distributed. "
   ]
  },
  {
   "cell_type": "code",
   "execution_count": 7,
   "metadata": {},
   "outputs": [
    {
     "data": {
      "image/png": "[encoded data removed]",
      "text/plain": [
       "<Figure size 432x288 with 1 Axes>"
      ]
     },
     "metadata": {},
     "output_type": "display_data"
    }
   ],
   "source": [
    "# Box Plot\n",
    "_ = sns.boxplot(temperatures, orient='v')\n",
    "_ = plt.ylabel('Temperatures (F)')\n",
    "_ = plt.xlabel('')\n",
    "_ = plt.title('Box Plot Temperatures')"
   ]
  },
  {
   "cell_type": "markdown",
   "metadata": {},
   "source": [
    "The following figure shows a histogram with a bin size estimated by the Freedman-Diaconis rule given by\n",
    " $2 * IQR * n^{\\frac{1}{3}}$"
   ]
  },
  {
   "cell_type": "code",
   "execution_count": 306,
   "metadata": {},
   "outputs": [
    {
     "data": {
      "image/png": "[encoded data removed]",
      "text/plain": [
       "<Figure size 432x288 with 1 Axes>"
      ]
     },
     "metadata": {},
     "output_type": "display_data"
    }
   ],
   "source": [
    "# Histogram\n",
    "num_bins = int(np.ceil(2 * (98.7-97.8) * (130 ** (1/3))))\n",
    "_ = plt.hist(temperatures, density=True, bins=num_bins)\n",
    "_ = plt.xlabel('Temperature (F)')\n",
    "_ = plt.ylabel('Probability Density')\n",
    "_ = plt.title('Temperatures Histogram (Bins=10)')"
   ]
  },
  {
   "cell_type": "markdown",
   "metadata": {},
   "source": [
    "The distribution to roughly follow normal distribution except for higher values. \n",
    "\n",
    "Next, we look at the histogram overlaid with a best fit parametric Normal distribution, and a non-parametric distribution using Kernel Density Estimators."
   ]
  },
  {
   "cell_type": "code",
   "execution_count": 9,
   "metadata": {},
   "outputs": [
    {
     "name": "stdout",
     "output_type": "stream",
     "text": [
      "Best Normal Fit with scipy: Mean=98.249, Standard Deviation=0.73036\n"
     ]
    },
    {
     "data": {
      "image/png": "[encoded data removed]",
      "text/plain": [
       "<Figure size 432x288 with 1 Axes>"
      ]
     },
     "metadata": {},
     "output_type": "display_data"
    }
   ],
   "source": [
    "import warnings\n",
    "\n",
    "# Needed to ignore a Future warning on sns.\n",
    "warnings.filterwarnings('ignore')\n",
    "\n",
    "# See what the best fit for the distribution is \n",
    "best_fit = norm.fit(temperatures)\n",
    "print('Best Normal Fit with scipy: Mean={:2.5}, Standard Deviation={:2.5}'.format(best_fit[0], best_fit[1]))\n",
    "\n",
    "# Plot Histogram overlaid with a best fit normal distribution and kde estimator distribution.\n",
    "_ = sns.distplot(temperatures, fit=norm, bins=14, fit_kws={'label':'Normal'}, kde_kws={'label':'KDE'})\n",
    "_ = plt.xlabel('Temperature (F)')\n",
    "_ = plt.ylabel('Probability Density with bins=14')\n",
    "_ = plt.legend()\n",
    "_ = plt.title('Histogram with Normal Distribution')"
   ]
  },
  {
   "cell_type": "markdown",
   "metadata": {},
   "source": [
    "An idealized normal distribution with parameters(98.249,0.73036) fits the data approximately. The overlaid non-parametric distribution shows some data intervals where we might expect deviations from the ideal normal curve.\n",
    "\n",
    "We examine the qualitative characteristics using cumulative distribution functions and quantile plots. Plotting the cdfs gives us the following:"
   ]
  },
  {
   "cell_type": "code",
   "execution_count": 291,
   "metadata": {},
   "outputs": [
    {
     "data": {
      "image/png": "[encoded data removed]",
      "text/plain": [
       "<Figure size 432x288 with 1 Axes>"
      ]
     },
     "metadata": {},
     "output_type": "display_data"
    }
   ],
   "source": [
    "# Compute the cdf for the ideal normal curve\n",
    "x_val = np.arange(96, 102, 0.1)\n",
    "y_val = norm.cdf(x_val, best_fit[0], best_fit[1])\n",
    "\n",
    "# Plot the cdf\n",
    "_ = sns.distplot(temperatures, hist_kws={'cumulative':True}, kde_kws={'cumulative':True, 'label':'KDE'})\n",
    "_ = plt.plot(x_val, y_val, label='Normal', color='black')\n",
    "_ = plt.xlabel('Temperature (F)')\n",
    "_ = plt.ylabel('CDF')\n",
    "_ = plt.legend()\n",
    "_ = plt.title('Cumulative Distribution')"
   ]
  },
  {
   "cell_type": "markdown",
   "metadata": {},
   "source": [
    "Looking a CDFs for both parametric and non-parametric distributions, we see that the actual unknown distribution closely follows the normal distribution."
   ]
  },
  {
   "cell_type": "code",
   "execution_count": 11,
   "metadata": {},
   "outputs": [
    {
     "data": {
      "image/png": "[encoded data removed]",
      "text/plain": [
       "<Figure size 432x288 with 1 Axes>"
      ]
     },
     "metadata": {},
     "output_type": "display_data"
    }
   ],
   "source": [
    "# Quantile-Quantile plot\n",
    "_ = probplot(temperatures, dist='norm', plot=plt)\n",
    "_ = plt.xlabel('Theoretical Normal Quantiles')\n",
    "_ = plt.ylabel('Ordered Temperature Values (F)')\n",
    "_ = plt.legend(['Input Data', 'Normal'])\n",
    "_ = plt.title('Normal Probability Plot')"
   ]
  },
  {
   "cell_type": "markdown",
   "metadata": {},
   "source": [
    "The red line in the Quantile-Quantile plot shows normal distribution quantiles, while the blue dots represent the ordered values from the input dataset. The input data closely follows the red line. In addition, there are no arcs, implying the input distribution is not skewed or heavier tailed than normal. Based on both these plots, we can expect the input data values to closely follow the normal distribution."
   ]
  },
  {
   "cell_type": "markdown",
   "metadata": {},
   "source": [
    "# Normality Tests"
   ]
  },
  {
   "cell_type": "markdown",
   "metadata": {},
   "source": [
    "To convince ourselves that the distribution is indeed normal, we perform a few known tests for normality.\n",
    "\n",
    "The first of these is the *Shapiro-Wilk* test, which assumes that distribution is normal as a null hypothesis. In addition, small values of the Weight statistic indicate deviation from normality."
   ]
  },
  {
   "cell_type": "code",
   "execution_count": 12,
   "metadata": {},
   "outputs": [
    {
     "name": "stdout",
     "output_type": "stream",
     "text": [
      "Shapiro-Wilk test: Weight=0.98658, P-value=0.23317\n"
     ]
    }
   ],
   "source": [
    "# Shapiro-Wilk Test for normality\n",
    "from scipy.stats import shapiro\n",
    "W, p_value = shapiro(temperatures)\n",
    "print('Shapiro-Wilk test: Weight={:2.5}, P-value={:2.5}'.format(W, p_value))"
   ]
  },
  {
   "cell_type": "markdown",
   "metadata": {},
   "source": [
    "Since the P-value is greater than the significance level of say 5% and W is not very small, we can assume normality based on this test as p-value > 0.05.\n",
    "\n",
    "Next we look at *Anderson-Darling* test for normality. The Anderson-Darling tests the null hypothesis that a sample is drawn from a population that follows a particular distribution. "
   ]
  },
  {
   "cell_type": "code",
   "execution_count": 13,
   "metadata": {},
   "outputs": [
    {
     "name": "stdout",
     "output_type": "stream",
     "text": [
      "Test Statistic: 0.5201, Critical Levels: [0.56  0.637 0.765 0.892 1.061], Significance Levels: [15.  10.   5.   2.5  1. ]\n"
     ]
    }
   ],
   "source": [
    "# Anderson-Darling Test for normality\n",
    "from scipy.stats import anderson\n",
    "W, critical_values, significance_levels = anderson(temperatures, dist='norm')\n",
    "print(\"Test Statistic: {:2.5}, Critical Levels: {}, Significance Levels: {}\".format(W, critical_values, significance_levels))"
   ]
  },
  {
   "cell_type": "markdown",
   "metadata": {},
   "source": [
    "We see that the test statistic is less than all critical levels, which implies that we cannot reject null hypothesis for any of the significance levels. Again, we conclude that the distribution is probably normal.\n",
    "\n",
    "One more test worth looking at is the *Kolmogorov-Smirnov* test for goodness of fit. This test performs a hypothesis test of the distribution G(x) of an observed random variable against a given distribution F(x), under the null hypothesis that the two distributions are identical, G(x)=F(x)"
   ]
  },
  {
   "cell_type": "code",
   "execution_count": 14,
   "metadata": {},
   "outputs": [
    {
     "name": "stdout",
     "output_type": "stream",
     "text": [
      "Kolmogorov-Smirnov test: Test Statistic=1.0, P-value=0.0\n"
     ]
    }
   ],
   "source": [
    "# Kolmogorov-Smirnov test for goodness of fit\n",
    "from scipy.stats import kstest\n",
    "ks, p_value = kstest(temperatures, 'norm')\n",
    "print('Kolmogorov-Smirnov test: Test Statistic={:2.5}, P-value={:2.5}'.format(ks, p_value))"
   ]
  },
  {
   "cell_type": "markdown",
   "metadata": {},
   "source": [
    "The p-value for this test is approximately zero, which gives us strong confidence that the original distribution is normal."
   ]
  },
  {
   "cell_type": "markdown",
   "metadata": {},
   "source": [
    "# Conditions for Central Limit Theorem\n",
    "\n",
    "For Central Limit Theorem to hold the following conditions need to be satisfied:\n",
    "- Random Sample\n",
    "- Normality\n",
    "- Independence\n",
    "\n",
    "How the sample is collected is not explicitly stated, so we assume that the sample is randomly collected. The input distribution is close to the normal distribution on both quantitative and qualitative inspections. In addition, the number of samples collected is greater than 30, indicating that normality can be assumed. The number of samples collected is definitely less than 10% of the whole population of human beings on which we are trying to make an inference on, so independence can be assumed.\n",
    "\n",
    "The sample satisfies all conditions for central limit theorem to hold, assuming it was collected randomly."
   ]
  },
  {
   "cell_type": "markdown",
   "metadata": {},
   "source": [
    "# Hypothesis Testing\n",
    "\n",
    "In this section, we will try to answer the question:\n",
    "> Is the  true population mean really 98.6 degrees F?\n",
    "\n",
    "We start by examining the question using non-parametric Bootstrap Hypothesis test:\n",
    "\n",
    "## Bootstrap Hypothesis Test"
   ]
  },
  {
   "cell_type": "markdown",
   "metadata": {},
   "source": [
    "Let true population mean be $\\mu$ and the standard deviation be sigma. For this test, we pick a significance level of *5%*.\n",
    "\n",
    "We start with the following Null Hypothesis:\n",
    "- **Null Hypothesis**: $\\mu = 98.6 ^{\\circ}F$\n",
    "- **Alternative Hypothesis**: $\\mu \\neq 98.6 ^{\\circ}F$\n",
    "\n",
    "In the given sample, the sample mean $\\hat{x} = 98.249$. We need to find by simulation, the probability of getting the sample mean $\\hat{x}$ value as extreme as 98.249, given the true mean of the sample was truly 98. To perform this simulation:\n",
    "1. **Mean Translation Step**: First subtract sample mean from the sample and add the true mean to every data point in the sample. This should effectively make the mean of the sample as 98.6.\n",
    "2. **Bootstrap Step**: Pick same number of samples from the sample independently. Simulate this 10000 times.\n",
    "3. **P-Value Step**: Compute p-value as the fraction of samples that are at least as extreme as the sample mean.\n",
    "\n",
    "If this p-value is less than the significance level, we can reject the Null Hypothesis and conclude that the population mean is different from 98.6."
   ]
  },
  {
   "cell_type": "code",
   "execution_count": 308,
   "metadata": {},
   "outputs": [
    {
     "name": "stdout",
     "output_type": "stream",
     "text": [
      "Reject null hypothesis. P-value is 0.00000% <= Significance level 5.00000%\n"
     ]
    }
   ],
   "source": [
    "# Bootstrap Hypothesis Test\n",
    "significance_level = 0.05\n",
    "known_mean = 98.6\n",
    "num_trials = 10000\n",
    "sample_mean = np.mean(temperatures)\n",
    "\n",
    "# Step 1: Translate Means\n",
    "x_translated = temperatures - sample_mean + known_mean\n",
    "\n",
    "# Step 2: Pick 10000 Random Samples of size 130\n",
    "# Define function to extract samples and compute test statistic.\n",
    "def draw_bs_runs(data, func, size=1):\n",
    "    \"\"\"Draws a Bootstrap sample from data and computes test statistic specified by func, repeats size times.\"\"\"\n",
    "    \n",
    "    # Initialize bootstrap test statistic return values\n",
    "    bs_replicates = np.empty(size)\n",
    "    \n",
    "    for i in range(size):\n",
    "        \n",
    "        # Draw independent sample of size len(data)\n",
    "        x_permuted = np.random.choice(data, size=len(data))\n",
    "    \n",
    "        # Compute test statistic\n",
    "        bs_replicates[i] = func(x_permuted)\n",
    "        \n",
    "    return bs_replicates\n",
    "\n",
    "# Define test statistic function as difference from mean to compare with\n",
    "def diff_from_mean(data, mean=known_mean):\n",
    "    \"\"\"Subtracts the known mean from data.\"\"\"\n",
    "    return np.mean(data) - mean\n",
    "\n",
    "# Draw samples and compute statistics\n",
    "sample_means = draw_bs_runs(x_translated, diff_from_mean, num_trials)\n",
    "\n",
    "# Step 3: Compute P-Value\n",
    "p_value = np.sum(abs(sample_means) > abs(sample_mean - known_mean)) / len(sample_means)\n",
    "\n",
    "if(p_value > significance_level):\n",
    "    print('Cannot reject null hypothesis. P-value is {:2.5%}  > Significance level {:2.5%}'.format(p_value, significance_level))\n",
    "else:\n",
    "    print('Reject null hypothesis. P-value is {:2.5%} <= Significance level {:2.5%}'.format(p_value, significance_level))"
   ]
  },
  {
   "cell_type": "markdown",
   "metadata": {},
   "source": [
    "We see that the P-value is almost zero and so we reject null hypothesis and conclude with *95%* confidence that **the population mean is not equal to $98.6 ^{\\circ}F$**"
   ]
  },
  {
   "cell_type": "code",
   "execution_count": 317,
   "metadata": {},
   "outputs": [
    {
     "data": {
      "image/png": "[encoded data removed]",
      "text/plain": [
       "<Figure size 432x288 with 1 Axes>"
      ]
     },
     "metadata": {},
     "output_type": "display_data"
    }
   ],
   "source": [
    "# Plot the Sampling Distribution\n",
    "_ = plt.hist(sample_means + 98.6, density=True, bins=100)\n",
    "_ = plt.xlabel('Temperature (F)')\n",
    "_ = plt.ylabel('Count')\n",
    "_ = plt.title('Temperature Mean Sampling Distribution')"
   ]
  },
  {
   "cell_type": "markdown",
   "metadata": {},
   "source": [
    "## Parametric Hypothesis Tests\n",
    "\n",
    "Since, we have only one sample, only one-sample tests can be used for testing this hypothesis. \n",
    "\n",
    "We know only the population mean to compare to in this and not the population standard deviation. For this reason, we use the sample deviation to find the t-statistic over z-statistic. However, since the number of samples $n > 30$, the t-distribution behaves almost like a normal distribution, and the *t critical value will almost nearly be equal to the z critical value and hence expect the test result and confidence intervals to be the same*."
   ]
  },
  {
   "cell_type": "markdown",
   "metadata": {},
   "source": [
    "### Using the t-statistic\n",
    "\n",
    "The t-statistic is computed as: $t=\\frac{(\\hat{x}-\\mu)}{\\frac{\\sigma_{x}}{\\sqrt{n}}}$ where:\n",
    "- $\\hat{x}$ is the sample mean\n",
    "- $\\mu$ is the known population mean\n",
    "- $\\sigma_{x}$ is the sample standard deviation\n",
    "- $n$ is the number of samples\n",
    "\n",
    "The confidence interval is given by: $\\hat{x} \\pm t^{*}SE$ where:\n",
    "- $t^{*}$ is the t-critical value for 129 degrees of freedom and 95% confidence interval\n",
    "- $SE$ is the standard error and equal to $\\frac{\\sigma_{x}}{\\sqrt{n}}$"
   ]
  },
  {
   "cell_type": "code",
   "execution_count": 113,
   "metadata": {},
   "outputs": [
    {
     "name": "stdout",
     "output_type": "stream",
     "text": [
      "Std-error = 0.064057\n",
      "T-Statistic = 5.4759\n",
      "P-value = 2.1887e-07\n",
      "T critical value = 1.9785\n",
      "Margin of error = 0.12674\n",
      "95% Confidence Interval = (98.122,98.376)\n"
     ]
    }
   ],
   "source": [
    "from scipy.stats import t as tdist\n",
    "\n",
    "# t-statistic\n",
    "def t_statistic(data, conf_level = 0.975, pop_mean = known_mean):\n",
    "    \"\"\"Computes t-statistic given data and confidence level.\"\"\"\n",
    "\n",
    "    # Degrees of freedom\n",
    "    df = len(data) - 1\n",
    "    \n",
    "    # Sample mean\n",
    "    sample_mean = np.mean(data)\n",
    "\n",
    "    # Standard error\n",
    "    std_error = np.std(data) / (len(data) ** 0.5)\n",
    "    print('Std-error = {:2.5}'.format(std_error))\n",
    "\n",
    "    # T-score\n",
    "    t_score = abs(sample_mean - pop_mean) / std_error\n",
    "    print('T-Statistic = {:2.5}'.format(t_score))\n",
    "\n",
    "    # P-Value for 2 sided hypothesis\n",
    "    p_value = 2*(1 - tdist.cdf(t_score, df))\n",
    "    print('P-value = {:2.5}'.format(p_value))\n",
    "\n",
    "    # T-Critical value\n",
    "    t_critical = tdist.ppf(conf_level, df)\n",
    "    print('T critical value = {:2.5}'.format(t_critical))\n",
    "\n",
    "    # Margin of Error\n",
    "    m_error = t_critical * std_error\n",
    "    print('Margin of error = {:2.5}'.format(m_error))\n",
    "\n",
    "    # Confidence Interval\n",
    "    print('{:2.0%} Confidence Interval = ({:2.5},{:2.5})'.format(conf_level-(1-conf_level), sample_mean - m_error, sample_mean + m_error))\n",
    "\n",
    "t_statistic(temperatures)"
   ]
  },
  {
   "cell_type": "markdown",
   "metadata": {},
   "source": [
    "*We see that the T-Statistic is much greater than T critical value and associated P-value is approximately zero. In addition, the confidence interval does not contain 98.6. So, we can reject the null hypothesis.*"
   ]
  },
  {
   "cell_type": "markdown",
   "metadata": {},
   "source": [
    "### Using the z-statistic\n",
    "\n",
    "The z-statistic is computed similar to t-statistic, only here we use the normal distribution instead of Student's t-distribution to get critical values and assume sample standard deviation is approximately equal to population standard deviation."
   ]
  },
  {
   "cell_type": "code",
   "execution_count": 328,
   "metadata": {},
   "outputs": [
    {
     "name": "stdout",
     "output_type": "stream",
     "text": [
      "Std-error = 0.064057\n",
      "Z-Statistic = 5.4759\n",
      "P-value = 4.3523e-08\n",
      "Z critical value = 1.96\n",
      "Margin of error = 0.12555\n",
      "95% Confidence Interval = (98.124,98.375)\n"
     ]
    }
   ],
   "source": [
    "# Z-statistic\n",
    "def z_statistic(data, conf_level = 0.975, pop_mean = known_mean):\n",
    "    \"\"\"Computes z statistic given data and confidence level.\"\"\"\n",
    "    \n",
    "    # Sample mean\n",
    "    sample_mean = np.mean(data)\n",
    "\n",
    "    # Standard error\n",
    "    std_error = np.std(data) / (len(data) ** 0.5)\n",
    "    print('Std-error = {:2.5}'.format(std_error))\n",
    "\n",
    "    # z-score\n",
    "    z_score = abs(sample_mean - known_mean) / std_error\n",
    "    print('Z-Statistic = {:2.5}'.format(z_score))\n",
    "\n",
    "    # P-Value\n",
    "    p_value = 2*(1 - norm.cdf(z_score))\n",
    "    print('P-value = {:2.5}'.format(p_value))\n",
    "\n",
    "    # Z-Critical value\n",
    "    z_critical = norm.ppf(conf_level)\n",
    "    print('Z critical value = {:2.5}'.format(z_critical))\n",
    "\n",
    "    # Margin of Error\n",
    "    m_error = z_critical * std_error\n",
    "    print('Margin of error = {:2.5}'.format(m_error))\n",
    "\n",
    "    # Confidence Interval\n",
    "    print('{:2.0%} Confidence Interval = ({:2.5},{:2.5})'.format(conf_level-(1-conf_level), sample_mean-m_error, \\\n",
    "                                                                 sample_mean+m_error))\n",
    "    \n",
    "z_statistic(temperatures)"
   ]
  },
  {
   "cell_type": "markdown",
   "metadata": {},
   "source": [
    "*As expected, there is not much of difference using either statistic as the number of samples is large enough for both (t and normal) distributions to behave similarly.*\n",
    "\n",
    "### Does small sample size have any difference in test results?\n",
    "\n",
    "To determine this a random sample of size 10 is taken and both t-statistic and z-statistic are computed again. For n < 30, it is possible that the normality assumption is violated due to low number of points in the sample."
   ]
  },
  {
   "cell_type": "code",
   "execution_count": 158,
   "metadata": {},
   "outputs": [
    {
     "name": "stdout",
     "output_type": "stream",
     "text": [
      "T-Statistic:\n",
      "Std-error = 0.20545\n",
      "T-Statistic = 2.093\n",
      "P-value = 0.065866\n",
      "T critical value = 2.2622\n",
      "Margin of error = 0.46476\n",
      "95% Confidence Interval = (97.705,98.635)\n",
      "-------------------------\n",
      "Z-Statistic:\n",
      "Std-error = 0.20545\n",
      "Z-Statistic = 2.093\n",
      "P-value = 0.036353\n",
      "Z critical value = 1.96\n",
      "Margin of error = 0.40268\n",
      "95% Confidence Interval = (97.767,98.573)\n"
     ]
    }
   ],
   "source": [
    "# Take a random sample of size 10\n",
    "x_sample_10 = np.random.choice(temperatures, size=10)\n",
    "\n",
    "# t-statistic\n",
    "print('T-Statistic:')\n",
    "t_statistic(x_sample_10)\n",
    "\n",
    "print('-------------------------')\n",
    "\n",
    "# z-statistic\n",
    "print('Z-Statistic:')\n",
    "z_statistic(x_sample_10)"
   ]
  },
  {
   "cell_type": "markdown",
   "metadata": {},
   "source": [
    "Comparing the two critical values, the t-critical value = $2.2622$ while the z-critical value is $1.96$. The t-test is more conservative and given that the sample size is small, more variance might be expected in smaller samples. Hence, the t-test is more suitable for smaller sample size hypothesis testing."
   ]
  },
  {
   "cell_type": "code",
   "execution_count": 159,
   "metadata": {},
   "outputs": [
    {
     "data": {
      "image/png": "[encoded data removed]",
      "text/plain": [
       "<Figure size 432x288 with 1 Axes>"
      ]
     },
     "metadata": {},
     "output_type": "display_data"
    }
   ],
   "source": [
    "# Visualize t and normal distributions\n",
    "\n",
    "x_v = np.arange(95, 101, 0.1)\n",
    "t_v = tdist.pdf(x_v, len(x_sample_10)-1, np.mean(x_sample_10), np.std(x_sample_10))\n",
    "z_v = norm.pdf(x_v, np.mean(x_sample_10), np.std(x_sample_10))\n",
    "\n",
    "_ = plt.plot(x_v, t_v)\n",
    "_ = plt.plot(x_v, z_v)\n",
    "_ = plt.hist(x_sample_10, bins=5, density=True)\n",
    "_ = plt.xlabel('Temperatures (F)')\n",
    "_ = plt.ylabel('Probability density')\n",
    "_ = plt.legend(['T', 'Norm', 'Sample'])\n",
    "_ = plt.title('T vs Normal Distribution vs Sample Histogram')"
   ]
  },
  {
   "cell_type": "markdown",
   "metadata": {},
   "source": [
    "As the figure above shows, the sample points are not normally distributed and the t-distribution at degrees of freedom = 9, is slightly flatter with heavier tails, Hence the tail probabilities are slightly higher leading to more conservative test results.\n",
    "*In the example, above the t-test failed to reject the null hypothesis at significance level of 5%, while the z-test statistic did.*"
   ]
  },
  {
   "cell_type": "markdown",
   "metadata": {},
   "source": [
    "### Detecting Outliers\n",
    "\n",
    "Abnormal temperatures are deviations from the norm. The two robust estimators for measuring dispersion around a central tendency are **Inter-Quantile range** and **Median Absolute Deviation around Median**. In terms of IQR, a robust estimator is 1.5 times IQR distance below first quartile or above third quartile.\n",
    "\n",
    "#### Inter-Quantile Range"
   ]
  },
  {
   "cell_type": "code",
   "execution_count": 107,
   "metadata": {},
   "outputs": [
    {
     "data": {
      "text/html": [
       "<div>\n",
       "<style scoped>\n",
       "    .dataframe tbody tr th:only-of-type {\n",
       "        vertical-align: middle;\n",
       "    }\n",
       "\n",
       "    .dataframe tbody tr th {\n",
       "        vertical-align: top;\n",
       "    }\n",
       "\n",
       "    .dataframe thead th {\n",
       "        text-align: right;\n",
       "    }\n",
       "</style>\n",
       "<table border=\"1\" class=\"dataframe\">\n",
       "  <thead>\n",
       "    <tr style=\"text-align: right;\">\n",
       "      <th></th>\n",
       "      <th>temperature</th>\n",
       "      <th>heart_rate</th>\n",
       "    </tr>\n",
       "  </thead>\n",
       "  <tbody>\n",
       "    <tr>\n",
       "      <th>count</th>\n",
       "      <td>130.000000</td>\n",
       "      <td>130.000000</td>\n",
       "    </tr>\n",
       "    <tr>\n",
       "      <th>mean</th>\n",
       "      <td>98.249231</td>\n",
       "      <td>73.761538</td>\n",
       "    </tr>\n",
       "    <tr>\n",
       "      <th>std</th>\n",
       "      <td>0.733183</td>\n",
       "      <td>7.062077</td>\n",
       "    </tr>\n",
       "    <tr>\n",
       "      <th>min</th>\n",
       "      <td>96.300000</td>\n",
       "      <td>57.000000</td>\n",
       "    </tr>\n",
       "    <tr>\n",
       "      <th>25%</th>\n",
       "      <td>97.800000</td>\n",
       "      <td>69.000000</td>\n",
       "    </tr>\n",
       "    <tr>\n",
       "      <th>50%</th>\n",
       "      <td>98.300000</td>\n",
       "      <td>74.000000</td>\n",
       "    </tr>\n",
       "    <tr>\n",
       "      <th>75%</th>\n",
       "      <td>98.700000</td>\n",
       "      <td>79.000000</td>\n",
       "    </tr>\n",
       "    <tr>\n",
       "      <th>max</th>\n",
       "      <td>100.800000</td>\n",
       "      <td>89.000000</td>\n",
       "    </tr>\n",
       "  </tbody>\n",
       "</table>\n",
       "</div>"
      ],
      "text/plain": [
       "       temperature  heart_rate\n",
       "count   130.000000  130.000000\n",
       "mean     98.249231   73.761538\n",
       "std       0.733183    7.062077\n",
       "min      96.300000   57.000000\n",
       "25%      97.800000   69.000000\n",
       "50%      98.300000   74.000000\n",
       "75%      98.700000   79.000000\n",
       "max     100.800000   89.000000"
      ]
     },
     "execution_count": 107,
     "metadata": {},
     "output_type": "execute_result"
    }
   ],
   "source": [
    "data_frame.describe()"
   ]
  },
  {
   "cell_type": "code",
   "execution_count": 106,
   "metadata": {},
   "outputs": [
    {
     "data": {
      "image/png": "[encoded data removed]",
      "text/plain": [
       "<Figure size 432x288 with 1 Axes>"
      ]
     },
     "metadata": {},
     "output_type": "display_data"
    }
   ],
   "source": [
    "# Box Plot\n",
    "_ = sns.boxplot(temperatures, orient='v')\n",
    "_ = plt.ylabel('Temperatures (F)')\n",
    "_ = plt.xlabel('')\n",
    "_ = plt.title('Box Plot Temperatures')"
   ]
  },
  {
   "cell_type": "markdown",
   "metadata": {},
   "source": [
    "Recreating box plot above, we can see $1.5*IQR$=1.35 and outliers can be classified as values lying outside the interval **(96.45, 100.05)**.\n",
    "\n",
    "#### Using Median Absolute Deviation for Outlier Detection\n",
    "\n",
    "Median Absolute Deviation around median is a robust estimator is computed as: $mad = \\frac{median(|x_{i} - median(x_{i})|)}{c}$ where:\n",
    "- $c$ is probability density of normal distribution at $\\frac{3}{4}$\n",
    "- $x_{i}$ is a sampled point.\n",
    "\n",
    "Margin of error for this statistical measure is computed using by multiplying a threshold value of $\\pm 2.527$, that probability density of the normal distribution for 99% Confidence Interval to the measure."
   ]
  },
  {
   "cell_type": "code",
   "execution_count": 273,
   "metadata": {},
   "outputs": [
    {
     "name": "stdout",
     "output_type": "stream",
     "text": [
      "99% Confidence Interval for Median Absolute Deviation around Median = (96.391,100.21)\n"
     ]
    }
   ],
   "source": [
    "from statsmodels import robust\n",
    "\n",
    "# Confidence Interval using Median\n",
    "# Median Absolute Deviation around Median\n",
    "conf_level = 0.995\n",
    "sample_median_ad = robust.scale.mad(temperatures)\n",
    "sample_median = np.median(temperatures)\n",
    "thres = norm.ppf(0.995)\n",
    "med_error = thres * sample_median_ad \n",
    "print('{:2.0%} Confidence Interval for Median Absolute Deviation around Median = ({:2.5},{:2.5})'.format(\\\n",
    "    conf_level-(1-conf_level), sample_median-med_error, sample_median+med_error))"
   ]
  },
  {
   "cell_type": "markdown",
   "metadata": {},
   "source": [
    "Using median absolute deviation around median (*mad*) gives us a interval of **(96.391, 100.21)** for valid values.\n",
    "\n",
    "#### Using Bootstrap Method for Outlier detection.\n",
    "\n",
    "Roughly the method followed is the similar to that of hypothesis test only using *(0.5%, 99.5%)percentiles* as the test statistic. The steps are:\n",
    "1. Collect a simple random sample of size, same as n, and compute *(0.5%, 99.5%)* percentiles. Collect 10,000 such samples.\n",
    "2. The percentile median deviations (0.5%, 99.5%) give the range of values for each percentile for 99% Confidence Interval.\n",
    "3. We pick the median values for each percentile out of their respective empirical distributions."
   ]
  },
  {
   "cell_type": "code",
   "execution_count": 277,
   "metadata": {},
   "outputs": [
    {
     "name": "stdout",
     "output_type": "stream",
     "text": [
      "99% Confidence Interval for temperatures = (96.365,100.28)\n"
     ]
    }
   ],
   "source": [
    "# Bootstap Method for estimating 0.5% and 99.5% percentiles\n",
    "\n",
    "conf_level = 0.995\n",
    "\n",
    "def lower_func(data, k=(1-conf_level)*100):\n",
    "    \"\"\"Computes lower 0.5% percentile of the data.\"\"\"\n",
    "    return np.percentile(data, [k])\n",
    "\n",
    "def upper_func(data, k=conf_level*100):\n",
    "    \"\"\"Computes upper 0.5% percentile of the data.\"\"\"\n",
    "    return np.percentile(data, [k])\n",
    "\n",
    "# Draw samples and compute statistics\n",
    "bs_lower = draw_bs_runs(temperatures, lower_func, num_trials)\n",
    "lower_val = np.median(bs_lower)\n",
    "bs_upper = draw_bs_runs(temperatures, upper_func, num_trials)\n",
    "upper_val = np.median(bs_upper)\n",
    "\n",
    "print('{:2.0%} Confidence Interval for temperatures = ({:2.5},{:2.5})'.format(\\\n",
    "    conf_level-(1-conf_level), lower_val, upper_val))"
   ]
  },
  {
   "cell_type": "markdown",
   "metadata": {},
   "source": [
    "*Estimated percentile range **(96.365, 100.28)** is similar to what is seen with other methods.*"
   ]
  },
  {
   "cell_type": "markdown",
   "metadata": {},
   "source": [
    "### Is there a significant difference between males and females in normal temperature?\n",
    "\n",
    "To answer this question, we use the permutation test to compute the probability of difference of means observed for males vs females, if we take a random permutation for the observed values regardless of gender.\n",
    "\n",
    "In addition, the actual distributions are also verified by comparing means using a two sample bootstrap hypothesis and parametric tests.\n",
    "\n",
    "Null Hypothesis: There is no difference in means of males vs females. $\\mu_{m}- \\mu_{f}= 0$, where $\\mu_{m}$ is the mean of male data, while $\\mu_{f}$ is the mean of female data.\n",
    "\n",
    "Alternative Hypothesis: $\\mu_{m}- \\mu_{f} \\neq 0$\n"
   ]
  },
  {
   "cell_type": "markdown",
   "metadata": {},
   "source": [
    "#### Visual Exploration of differences"
   ]
  },
  {
   "cell_type": "code",
   "execution_count": 287,
   "metadata": {},
   "outputs": [
    {
     "data": {
      "image/png": "[encoded data removed]",
      "text/plain": [
       "<Figure size 432x288 with 1 Axes>"
      ]
     },
     "metadata": {},
     "output_type": "display_data"
    }
   ],
   "source": [
    "# Helper function to view Cumulative distribution function.\n",
    "def ecdf(data):\n",
    "    \"\"\"Cumulative Distribution Function\"\"\"\n",
    "    \n",
    "    n = len(data)\n",
    "    x = np.sort(data)\n",
    "    y = np.arange(1, n+1) / n\n",
    "    \n",
    "    return x, y\n",
    "\n",
    "male_data = data_frame[data_frame.gender == 'M']['temperature']\n",
    "female_data = data_frame[data_frame.gender == 'F']['temperature']\n",
    "\n",
    "x, y = ecdf(male_data)\n",
    "_ = plt.plot(x, y, marker='.', linestyle='none', color='red')\n",
    "\n",
    "x, y = ecdf(female_data)\n",
    "_ = plt.plot(x, y, marker='.', linestyle='none', color='blue')\n",
    "\n",
    "_ = plt.legend(['Male', 'Female'])\n",
    "_ = plt.xlabel('Temperature')\n",
    "_ = plt.ylabel('Cumulative Probability Density')\n",
    "_ = plt.title('Cumulative Probability (Male vs Female)')"
   ]
  },
  {
   "cell_type": "code",
   "execution_count": 304,
   "metadata": {},
   "outputs": [
    {
     "name": "stdout",
     "output_type": "stream",
     "text": [
      "Best Normal Fit (Male): Mean=98.105, Standard Deviation=0.69336\n",
      "Best Normal Fit (Female): Mean=98.394, Standard Deviation=0.73775\n"
     ]
    },
    {
     "data": {
      "image/png": "[encoded data removed]",
      "text/plain": [
       "<Figure size 432x288 with 1 Axes>"
      ]
     },
     "metadata": {},
     "output_type": "display_data"
    }
   ],
   "source": [
    "# See what the best fit for the distribution is \n",
    "male_best_fit = norm.fit(male_data)\n",
    "print('Best Normal Fit (Male): Mean={:2.5}, Standard Deviation={:2.5}'.format(male_best_fit[0], male_best_fit[1]))\n",
    "female_best_fit = norm.fit(female_data)\n",
    "print('Best Normal Fit (Female): Mean={:2.5}, Standard Deviation={:2.5}'.format(female_best_fit[0], female_best_fit[1]))\n",
    "\n",
    "x_val = np.arange(96, 101, 0.1)\n",
    "male_y_val = norm.cdf(x_val, male_best_fit[0], male_best_fit[1])\n",
    "female_y_val = norm.cdf(x_val, female_best_fit[0], female_best_fit[1])\n",
    "\n",
    "# Plot the cdfs for male and female\n",
    "_ = sns.distplot(male_data, bins=14, hist_kws={'cumulative':True, 'density':True, 'color':'red'}, kde=False)\n",
    "_ = sns.distplot(female_data, bins=14, hist_kws={'cumulative':True, 'density':True, 'color':'blue'}, kde=False)\n",
    "\n",
    "_ = plt.plot(x_val, male_y_val, label='Male Fit', color='red')\n",
    "_ = plt.plot(x_val, female_y_val, label='Female Fit', color='blue')\n",
    "\n",
    "#_ = plt.plot(x_val, y_val, label='Normal', color='black')\n",
    "_ = plt.xlabel('Temperature (F)')\n",
    "_ = plt.ylabel('CDF')\n",
    "_ = plt.legend(['Male', 'Female'])\n",
    "_ = plt.title('Cumulative Distribution with Fits')"
   ]
  },
  {
   "cell_type": "markdown",
   "metadata": {},
   "source": [
    "On Visual exploration, we do expect to see a difference in means of the distributions of temperature between the two genders."
   ]
  },
  {
   "cell_type": "markdown",
   "metadata": {},
   "source": [
    "####  Permutation Test"
   ]
  },
  {
   "cell_type": "code",
   "execution_count": 290,
   "metadata": {},
   "outputs": [
    {
     "name": "stdout",
     "output_type": "stream",
     "text": [
      "Reject null hypothesis. P-value is 2.30000% <= Significance level 5.00000%\n"
     ]
    }
   ],
   "source": [
    "significance_level = 0.05\n",
    "\n",
    "def permutation_sample(data_1, data_2):\n",
    "    \"\"\"Computes a permutation sample for merged data1 and data2\"\"\"\n",
    "    \n",
    "    # Concatenate data sets\n",
    "    data = np.concatenate([data_1, data_2])\n",
    "\n",
    "    # Draw permuted sample\n",
    "    permuted_data = np.random.permutation(data)\n",
    "\n",
    "    # Split the permuted array into two: perm_sample_1, perm_sample_2\n",
    "    perm_sample_1 = permuted_data[:len(data_1)]\n",
    "    perm_sample_2 = permuted_data[len(data_1):]\n",
    "    \n",
    "    return perm_sample_1, perm_sample_2\n",
    "\n",
    "def draw_perm_reps(data_1, data_2, func, size=1):\n",
    "    \"\"\"Generate multiple permutation replicates.\"\"\"\n",
    "\n",
    "    # Initialize array of replicates: perm_replicates\n",
    "    perm_replicates = np.empty(size)\n",
    "\n",
    "    for i in range(size):\n",
    "        # Generate permutation sample\n",
    "        perm_sample_1, perm_sample_2 = permutation_sample(data_1, data_2)\n",
    "\n",
    "        # Compute the test statistic\n",
    "        perm_replicates[i] = func(perm_sample_1, perm_sample_2)\n",
    "\n",
    "    return perm_replicates\n",
    "\n",
    "# Define test statistic function as difference from mean to compare with\n",
    "def diff_of_means(data_1, data_2):\n",
    "    \"\"\"Difference of means from data.\"\"\"\n",
    "    return np.mean(data_1) - np.mean(data_2)\n",
    "\n",
    "# Draw samples and compute statistics\n",
    "sample_means = draw_perm_reps(male_data, female_data, diff_of_means, num_trials)\n",
    "\n",
    "# Step 3: Compute P-Value\n",
    "p_value = np.sum(abs(sample_means) > abs(np.mean(male_data) - np.mean(female_data))) / len(sample_means)\n",
    "\n",
    "if(p_value > significance_level):\n",
    "    print('Cannot reject null hypothesis. P-value is {:2.5%}  > Significance level {:2.5%}'.format(p_value, significance_level))\n",
    "else:\n",
    "    print('Reject null hypothesis. P-value is {:2.5%} <= Significance level {:2.5%}'.format(p_value, significance_level))\n"
   ]
  },
  {
   "cell_type": "markdown",
   "metadata": {},
   "source": [
    "The permutation test shows that the probability of getting the difference of means as extreme as the current difference of means is < $5$%.Therefore, we conclude that male vs female means are different."
   ]
  },
  {
   "cell_type": "markdown",
   "metadata": {},
   "source": [
    "####  Two Sample Bootstrap hypothesis test\n",
    "\n",
    "For two sample bootstrap hypothesis test, we do exactly the same steps as one-sample test. We shift the male and female distributions to the combined mean and then do hypothesis test by collecting 10000 samples."
   ]
  },
  {
   "cell_type": "code",
   "execution_count": 327,
   "metadata": {},
   "outputs": [
    {
     "name": "stdout",
     "output_type": "stream",
     "text": [
      "P-value is 2.36000% <= Significance level 5.00000%\n"
     ]
    }
   ],
   "source": [
    "# Compute mean of all temperatures\n",
    "mean_temp = np.mean(temperatures)\n",
    "\n",
    "# Generate shifted arrays\n",
    "temp_male_shifted = male_data - np.mean(male_data) + mean_temp\n",
    "temp_female_shifted = female_data - np.mean(female_data) + mean_temp\n",
    "\n",
    "# Compute 10,000 bootstrap replicates from shifted arrays\n",
    "bs_replicates_male = draw_bs_runs(temp_male_shifted, np.mean, 10000)\n",
    "bs_replicates_female = draw_bs_runs(temp_female_shifted, np.mean, 10000)\n",
    "\n",
    "# Get replicates of difference of means: bs_replicates\n",
    "bs_replicates = bs_replicates_female - bs_replicates_male\n",
    "\n",
    "# Compute and print p-value: p\n",
    "p_value = np.sum(abs(bs_replicates) > abs(diff_of_means(female_data, male_data))) / len(bs_replicates)\n",
    "print('P-value is {:2.5%} <= Significance level {:2.5%}'.format(p_value, significance_level))"
   ]
  },
  {
   "cell_type": "markdown",
   "metadata": {},
   "source": [
    "The two sample bootstrap hypothesis test also reaches the same conclusion, that the means are different with probability < 5%"
   ]
  },
  {
   "cell_type": "markdown",
   "metadata": {},
   "source": [
    "#### Parametric test for difference of means\n",
    "\n",
    "Here we compute the difference of means and compute the total variance of the difference of two normal distributions that we also expect to be normal."
   ]
  },
  {
   "cell_type": "code",
   "execution_count": 344,
   "metadata": {},
   "outputs": [
    {
     "name": "stdout",
     "output_type": "stream",
     "text": [
      "Std-error = 0.12558\n",
      "Z-Statistic = 2.3032\n",
      "P-value = 0.021266\n",
      "95% Confidence Interval = (-0.53536,-0.043105)\n"
     ]
    }
   ],
   "source": [
    "# Parametric test using z-statistic\n",
    "conf_level  = 0.975\n",
    "\n",
    "# Sample diff means\n",
    "diff_mean = diff_of_means(male_data, female_data)\n",
    "\n",
    "# Standard errors change as the variances add up\n",
    "var_male = np.var(male_data)\n",
    "var_female = np.var(female_data)\n",
    "var_total = var_male + var_female\n",
    "std_total = (var_total ** 0.5)\n",
    "std_error = std_total / (len(male_data) ** 0.5)\n",
    "print('Std-error = {:2.5}'.format(std_error))\n",
    "\n",
    "# z-score\n",
    "z_score = abs(diff_mean) / std_error\n",
    "print('Z-Statistic = {:2.5}'.format(z_score))\n",
    "\n",
    "# P-Value\n",
    "p_value = 2*(1 - norm.cdf(z_score))\n",
    "print('P-value = {:2.5}'.format(p_value))\n",
    "\n",
    "# Confidence Interval\n",
    "m_error = norm.ppf(conf_level) * std_error\n",
    "print('{:2.0%} Confidence Interval = ({:2.5},{:2.5})'.format(conf_level-(1-conf_level), diff_mean-m_error, \\\n",
    "                                                                 diff_mean+m_error))"
   ]
  },
  {
   "cell_type": "markdown",
   "metadata": {},
   "source": [
    "Again the p-value of approximately 2.3% is obtained leading us to conclude that the difference of means is not zero and hence the two means are not the same."
   ]
  },
  {
   "cell_type": "markdown",
   "metadata": {},
   "source": [
    "## Conclusion"
   ]
  },
  {
   "cell_type": "markdown",
   "metadata": {},
   "source": [
    "We can conclude the following from the data provided:\n",
    "- We are 95% confident, that the mean normal temperature of the population is different from the well known 98.6 degrees F, but lies in the interval (97.767,98.573)\n",
    "- We are 95% confident, that the mean normal temperature of men and women are different. Men are 95% likely to have a mean normal temperature between (-0.54, -0.04) than women."
   ]
  }
 ],
 "metadata": {
  "kernelspec": {
   "display_name": "Python 3",
   "language": "python",
   "name": "python3"
  },
  "language_info": {
   "codemirror_mode": {
    "name": "ipython",
    "version": 3
   },
   "file_extension": ".py",
   "mimetype": "text/x-python",
   "name": "python",
   "nbconvert_exporter": "python",
   "pygments_lexer": "ipython3",
   "version": "3.6.6"
  }
 },
 "nbformat": 4,
 "nbformat_minor": 1
}
